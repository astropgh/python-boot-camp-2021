{
 "cells": [
  {
   "cell_type": "markdown",
   "id": "56127dc4-99be-4803-86bc-816d5bcbb1ef",
   "metadata": {},
   "source": [
    "# Let's play with some defaults!\n",
    "We'll use this smaller notebook to play around with changing the specified defaults in our `matplotlibrc` file and see how they can update the plots.  You can use this as an opportunity to craft your very own `matplotlib` file to look exactly how you want it to so that all of your plots are gorgeous!\n",
    "\n",
    "As you uncomment and change things in the `matplotlibrc` file, be sure to save it and then come back here and restart the kernel before re-running the code (otherwise the notebook won't know the plotting defaults have changed!)."
   ]
  },
  {
   "cell_type": "code",
   "execution_count": null,
   "id": "196fe69b-5721-4660-a575-d2bceb8483c2",
   "metadata": {},
   "outputs": [],
   "source": [
    "import numpy as np\n",
    "import matplotlib.pyplot as plt"
   ]
  },
  {
   "cell_type": "markdown",
   "id": "44f8e18c-386a-4c75-8971-037b13a648ec",
   "metadata": {},
   "source": [
    "## Making fake data\n",
    "For this small notebook, we're going to make some fake data really quickly so that we have something to plot.  I'm not going to tell you what these functions do -- this is your opportunity to hone your Googling skills :)"
   ]
  },
  {
   "cell_type": "code",
   "execution_count": null,
   "id": "4e6cf9f8-f4b4-4f5f-a9ef-2fa76f617157",
   "metadata": {},
   "outputs": [],
   "source": [
    "x = np.linspace(-1,1,100)\n",
    "y = np.sin(x)**2 * x**3\n",
    "\n",
    "# adding noise/randomness to the y-values\n",
    "noise = np.random.random(y.shape) * 0.3\n",
    "y += noise # adding the randomness to the y-values"
   ]
  },
  {
   "cell_type": "markdown",
   "id": "3fa4197a-6ff7-4811-abf2-d8b52c5f0cab",
   "metadata": {},
   "source": [
    "## Plotting our fake data\n",
    "Okay, here's a basic setup I've made to plot the data -- but I want you to also have fun and add anything else to this plot that you want to!  Bonus points if you can come up with x-axis and y-axis labels that make sense (as an example, like if I say x is time and y is my obsession with `matplotlib`)."
   ]
  },
  {
   "cell_type": "code",
   "execution_count": null,
   "id": "8bd091ca-0053-4d32-ac7e-2b225a6dc06c",
   "metadata": {},
   "outputs": [],
   "source": [
    "plt.figure(figsize=(8,5))\n",
    "\n",
    "plt.scatter(x,y)\n"
   ]
  },
  {
   "cell_type": "code",
   "execution_count": null,
   "id": "c929d0ce-bc26-4f26-9222-6b7051a8993a",
   "metadata": {
    "tags": []
   },
   "outputs": [],
   "source": []
  },
  {
   "cell_type": "markdown",
   "id": "dfe1dac1-4457-4f14-8dd7-1dbcf764db59",
   "metadata": {},
   "source": [
    "## Additional things to do\n",
    "If you're done with the above and satisfied with how it looks, play with making your own fake data!  I'll set it up for you below:"
   ]
  },
  {
   "cell_type": "code",
   "execution_count": null,
   "id": "0e2562a6-7e35-4735-a0c8-9ee732e10dfa",
   "metadata": {},
   "outputs": [],
   "source": [
    "x2 = \n",
    "y2 = \n",
    "\n",
    "# adding noise/randomness to the y-values\n",
    "noise2 = np.random.random(y2.shape) * 0.3 # change the 0.3 to something else!  See what that does.\n",
    "y2 += noise2 # adding the randomness to the y-values"
   ]
  },
  {
   "cell_type": "code",
   "execution_count": null,
   "id": "ee71395d-798c-4b51-ba1c-318e784d1816",
   "metadata": {},
   "outputs": [],
   "source": [
    "# plot the data!\n",
    "\n",
    "\n",
    "\n"
   ]
  },
  {
   "cell_type": "code",
   "execution_count": null,
   "id": "38b5ec40-67f6-4a46-81e1-88353ddee11a",
   "metadata": {},
   "outputs": [],
   "source": []
  }
 ],
 "metadata": {
  "kernelspec": {
   "display_name": "Python 3",
   "language": "python",
   "name": "python3"
  },
  "language_info": {
   "codemirror_mode": {
    "name": "ipython",
    "version": 3
   },
   "file_extension": ".py",
   "mimetype": "text/x-python",
   "name": "python",
   "nbconvert_exporter": "python",
   "pygments_lexer": "ipython3",
   "version": "3.7.7"
  }
 },
 "nbformat": 4,
 "nbformat_minor": 5
}
