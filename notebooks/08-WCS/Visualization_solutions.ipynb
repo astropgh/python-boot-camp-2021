{
 "cells": [
  {
   "cell_type": "markdown",
   "metadata": {},
   "source": [
    "_Exercise 1_\n",
    "* Display the `data/w5.fits` file as a bitmap with linear stretch, greyscale color map, and ZScale scaling\n",
    "* Overlay black contours at levels of 600 and 800\n",
    "* Overlay a green coordinate grid"
   ]
  },
  {
   "cell_type": "code",
   "execution_count": null,
   "metadata": {},
   "outputs": [],
   "source": [
    "import matplotlib.pyplot as plt\n",
    "from astropy.io import fits\n",
    "from astropy.wcs import WCS\n",
    "from astropy.visualization import (ZScaleInterval,\n",
    "                                  LinearStretch,\n",
    "                                  ImageNormalize)\n",
    "%matplotlib inline"
   ]
  },
  {
   "cell_type": "code",
   "execution_count": null,
   "metadata": {},
   "outputs": [],
   "source": [
    "hdu = fits.open('./data/w5.fits')[0]\n",
    "wcs = WCS(hdu.header)\n",
    "\n",
    "# linear stretch, ZScale scaling\n",
    "norm = ImageNormalize(hdu.data, interval=ZScaleInterval(),\n",
    "                      stretch=LinearStretch())\n"
   ]
  },
  {
   "cell_type": "code",
   "execution_count": null,
   "metadata": {},
   "outputs": [],
   "source": [
    "fig = plt.figure(figsize=(8,8))\n",
    "ax = plt.subplot(projection=wcs)\n",
    "\n",
    "# greyscale color map\n",
    "plt.imshow(hdu.data, norm=norm, origin=\"lower\", cmap='Greys_r')\n",
    "\n",
    "ax.coords['ra'].set_ticks(color='green')\n",
    "ax.coords['dec'].set_ticks(color='green')\n",
    "\n",
    "ax.coords['ra'].set_axislabel('Right Ascension')\n",
    "ax.coords['dec'].set_axislabel('Declination')\n",
    "\n",
    "# green coordinate grid\n",
    "ax.coords.grid(color='green', linestyle='solid', alpha=1.0)\n",
    "\n",
    "# contours at levels of 600 and 800\n",
    "ax.contour(hdu.data, levels=[600, 800], colors='black');"
   ]
  },
  {
   "cell_type": "markdown",
   "metadata": {
    "collapsed": true
   },
   "source": [
    "_Exercise 2_\n",
    "\n",
    "Use the `get_coords_overlay` method of a projected axis to overlay a Galactic grid to the rendering in Exercise 1\n",
    "\n",
    "Use this code:\n",
    "\n",
    "```\n",
    "ax = plt.subplot(projection=wcs)\n",
    "\n",
    "overlay = ax.get_coords_overlay('galactic')\n",
    "overlay['l'].set_ticks(color='cyan')\n",
    "overlay['b'].set_ticks(color='cyan')\n",
    "overlay['l'].set_axislabel('Galactic Longitude')\n",
    "overlay['b'].set_axislabel('Galactic Latitude')\n",
    "overlay.grid(color='cyan', linestyle='solid', alpha=1.0)\n",
    "```"
   ]
  },
  {
   "cell_type": "code",
   "execution_count": null,
   "metadata": {},
   "outputs": [],
   "source": [
    "fig = plt.figure(figsize=(8,8))\n",
    "ax = plt.subplot(projection=wcs)\n",
    "\n",
    "overlay = ax.get_coords_overlay('galactic')\n",
    "\n",
    "plt.imshow(hdu.data, norm=norm, origin=\"lower\", cmap='Greys_r')\n",
    "\n",
    "ax.coords['ra'].set_ticks(color='green')\n",
    "ax.coords['dec'].set_ticks(color='green')\n",
    "\n",
    "ax.coords['ra'].set_axislabel('Right Ascension')\n",
    "ax.coords['dec'].set_axislabel('Declination')\n",
    "\n",
    "ax.coords.grid(color='green', linestyle='solid', alpha=1.0)\n",
    "\n",
    "overlay['l'].set_ticks(color='cyan')\n",
    "overlay['b'].set_ticks(color='cyan')\n",
    "\n",
    "overlay['l'].set_axislabel('Galactic Longitude')\n",
    "overlay['b'].set_axislabel('Galactic Latitude')\n",
    "\n",
    "overlay.grid(color='cyan', linestyle='solid', alpha=1.0)\n",
    "\n",
    "\n",
    "ax.contour(hdu.data, levels=[600, 800], colors='black');"
   ]
  },
  {
   "cell_type": "code",
   "execution_count": null,
   "metadata": {},
   "outputs": [],
   "source": []
  }
 ],
 "metadata": {
  "anaconda-cloud": {},
  "kernelspec": {
   "name": "python394jvsc74a57bd092a8295489555d3a1aedc5d600c27b639ac1b7142ea0160462c6bd277d5bb6e2",
   "display_name": "Python 3.9.4 64-bit ('bootcamp': conda)"
  },
  "language_info": {
   "codemirror_mode": {
    "name": "ipython",
    "version": 3
   },
   "file_extension": ".py",
   "mimetype": "text/x-python",
   "name": "python",
   "nbconvert_exporter": "python",
   "pygments_lexer": "ipython3",
   "version": "3.9.4"
  }
 },
 "nbformat": 4,
 "nbformat_minor": 1
}