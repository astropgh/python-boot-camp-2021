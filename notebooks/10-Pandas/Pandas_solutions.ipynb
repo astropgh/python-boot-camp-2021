{
 "cells": [
  {
   "cell_type": "markdown",
   "metadata": {},
   "source": [
    "# Extremely Brief Intro to Pandas\n",
    "## `merge` and `read_csv`: Two Major Time-Saving Functions\n",
    "\n",
    "A very handy Pandas cheatsheet:\n",
    "https://github.com/pandas-dev/pandas/blob/master/doc/cheatsheet/Pandas_Cheat_Sheet.pdf"
   ]
  },
  {
   "cell_type": "code",
   "execution_count": 1,
   "metadata": {},
   "outputs": [],
   "source": [
    "import matplotlib.pyplot as plt\n",
    "import numpy as np\n",
    "import pandas as pd\n",
    "\n",
    "# to create high-resolution figures\n",
    "%config InlineBackend.figure_format = \"retina\""
   ]
  },
  {
   "cell_type": "markdown",
   "metadata": {},
   "source": [
    "### `merge`: joining two dataframes"
   ]
  },
  {
   "cell_type": "code",
   "execution_count": 2,
   "metadata": {},
   "outputs": [
    {
     "data": {
      "text/html": [
       "<div>\n",
       "<style scoped>\n",
       "    .dataframe tbody tr th:only-of-type {\n",
       "        vertical-align: middle;\n",
       "    }\n",
       "\n",
       "    .dataframe tbody tr th {\n",
       "        vertical-align: top;\n",
       "    }\n",
       "\n",
       "    .dataframe thead th {\n",
       "        text-align: right;\n",
       "    }\n",
       "</style>\n",
       "<table border=\"1\" class=\"dataframe\">\n",
       "  <thead>\n",
       "    <tr style=\"text-align: right;\">\n",
       "      <th></th>\n",
       "      <th>name</th>\n",
       "      <th>mass</th>\n",
       "    </tr>\n",
       "  </thead>\n",
       "  <tbody>\n",
       "    <tr>\n",
       "      <th>0</th>\n",
       "      <td>A</td>\n",
       "      <td>1</td>\n",
       "    </tr>\n",
       "    <tr>\n",
       "      <th>1</th>\n",
       "      <td>B</td>\n",
       "      <td>2</td>\n",
       "    </tr>\n",
       "    <tr>\n",
       "      <th>2</th>\n",
       "      <td>C</td>\n",
       "      <td>3</td>\n",
       "    </tr>\n",
       "  </tbody>\n",
       "</table>\n",
       "</div>"
      ],
      "text/plain": [
       "  name  mass\n",
       "0    A     1\n",
       "1    B     2\n",
       "2    C     3"
      ]
     },
     "execution_count": 2,
     "metadata": {},
     "output_type": "execute_result"
    }
   ],
   "source": [
    "# Columns name & mass\n",
    "# Rows 0, 1, 2\n",
    "\n",
    "a = pd.DataFrame({\n",
    "    'name': ['A', 'B', 'C'],\n",
    "    'mass': [1, 2, 3],\n",
    "})\n",
    "\n",
    "a"
   ]
  },
  {
   "cell_type": "code",
   "execution_count": 3,
   "metadata": {},
   "outputs": [
    {
     "data": {
      "text/html": [
       "<div>\n",
       "<style scoped>\n",
       "    .dataframe tbody tr th:only-of-type {\n",
       "        vertical-align: middle;\n",
       "    }\n",
       "\n",
       "    .dataframe tbody tr th {\n",
       "        vertical-align: top;\n",
       "    }\n",
       "\n",
       "    .dataframe thead th {\n",
       "        text-align: right;\n",
       "    }\n",
       "</style>\n",
       "<table border=\"1\" class=\"dataframe\">\n",
       "  <thead>\n",
       "    <tr style=\"text-align: right;\">\n",
       "      <th></th>\n",
       "      <th>name</th>\n",
       "      <th>is_agn</th>\n",
       "    </tr>\n",
       "  </thead>\n",
       "  <tbody>\n",
       "    <tr>\n",
       "      <th>0</th>\n",
       "      <td>A</td>\n",
       "      <td>True</td>\n",
       "    </tr>\n",
       "    <tr>\n",
       "      <th>1</th>\n",
       "      <td>B</td>\n",
       "      <td>False</td>\n",
       "    </tr>\n",
       "    <tr>\n",
       "      <th>2</th>\n",
       "      <td>D</td>\n",
       "      <td>True</td>\n",
       "    </tr>\n",
       "  </tbody>\n",
       "</table>\n",
       "</div>"
      ],
      "text/plain": [
       "  name  is_agn\n",
       "0    A    True\n",
       "1    B   False\n",
       "2    D    True"
      ]
     },
     "execution_count": 3,
     "metadata": {},
     "output_type": "execute_result"
    }
   ],
   "source": [
    "# One shared column with `a` and one different column from `a`\n",
    "\n",
    "b = pd.DataFrame({\n",
    "    'name': ['A', 'B', 'D'],\n",
    "    'is_agn': [True, False, True]\n",
    "})\n",
    "\n",
    "b"
   ]
  },
  {
   "cell_type": "code",
   "execution_count": 4,
   "metadata": {},
   "outputs": [
    {
     "data": {
      "text/html": [
       "<div>\n",
       "<style scoped>\n",
       "    .dataframe tbody tr th:only-of-type {\n",
       "        vertical-align: middle;\n",
       "    }\n",
       "\n",
       "    .dataframe tbody tr th {\n",
       "        vertical-align: top;\n",
       "    }\n",
       "\n",
       "    .dataframe thead th {\n",
       "        text-align: right;\n",
       "    }\n",
       "</style>\n",
       "<table border=\"1\" class=\"dataframe\">\n",
       "  <thead>\n",
       "    <tr style=\"text-align: right;\">\n",
       "      <th></th>\n",
       "      <th>name</th>\n",
       "      <th>mass</th>\n",
       "      <th>is_agn</th>\n",
       "    </tr>\n",
       "  </thead>\n",
       "  <tbody>\n",
       "    <tr>\n",
       "      <th>0</th>\n",
       "      <td>A</td>\n",
       "      <td>1</td>\n",
       "      <td>True</td>\n",
       "    </tr>\n",
       "    <tr>\n",
       "      <th>1</th>\n",
       "      <td>B</td>\n",
       "      <td>2</td>\n",
       "      <td>False</td>\n",
       "    </tr>\n",
       "  </tbody>\n",
       "</table>\n",
       "</div>"
      ],
      "text/plain": [
       "  name  mass  is_agn\n",
       "0    A     1    True\n",
       "1    B     2   False"
      ]
     },
     "execution_count": 4,
     "metadata": {},
     "output_type": "execute_result"
    }
   ],
   "source": [
    "# Inner merge: intersection\n",
    "inner = pd.merge(a, b, on='name', how='inner')\n",
    "inner"
   ]
  },
  {
   "cell_type": "markdown",
   "metadata": {},
   "source": [
    "#### What happened?\n",
    "We found rows in `a` and `b` that had the same value in column 'x1'. We then returned the values for the other columns from `a` and `b`. This is very useful for when you are cross-matching data sets."
   ]
  },
  {
   "cell_type": "markdown",
   "metadata": {},
   "source": [
    "### Exercise 1\n",
    "\n",
    "Do a merge that preserves all rows from both input dataframes (i.e., a union).\n",
    "\n",
    "Note: this is called an \"outer\" merge. What happened?\n"
   ]
  },
  {
   "cell_type": "code",
   "execution_count": 5,
   "metadata": {},
   "outputs": [],
   "source": [
    "# YOUR CODE HERE\n",
    "\n",
    "outer = pd.merge(a, b, on='name', how='outer')"
   ]
  },
  {
   "cell_type": "markdown",
   "metadata": {},
   "source": [
    "### Exercise 2: Saving Our DataFrame and Reading It Back\n",
    "Let's save it as a Comma Separated Values (CSV) file using the DataFrame's `to_csv()` method. Only provide the filename (\"super_important_data.csv\") without any other arguments."
   ]
  },
  {
   "cell_type": "code",
   "execution_count": 6,
   "metadata": {},
   "outputs": [],
   "source": [
    "# YOUR CODE HERE\n",
    "\n",
    "outer.to_csv('super_important_data.csv')"
   ]
  },
  {
   "cell_type": "markdown",
   "metadata": {},
   "source": [
    "Now, let's read it in with `pd.read_csv()`."
   ]
  },
  {
   "cell_type": "code",
   "execution_count": 7,
   "metadata": {},
   "outputs": [
    {
     "data": {
      "text/html": [
       "<div>\n",
       "<style scoped>\n",
       "    .dataframe tbody tr th:only-of-type {\n",
       "        vertical-align: middle;\n",
       "    }\n",
       "\n",
       "    .dataframe tbody tr th {\n",
       "        vertical-align: top;\n",
       "    }\n",
       "\n",
       "    .dataframe thead th {\n",
       "        text-align: right;\n",
       "    }\n",
       "</style>\n",
       "<table border=\"1\" class=\"dataframe\">\n",
       "  <thead>\n",
       "    <tr style=\"text-align: right;\">\n",
       "      <th></th>\n",
       "      <th>Unnamed: 0</th>\n",
       "      <th>name</th>\n",
       "      <th>mass</th>\n",
       "      <th>is_agn</th>\n",
       "    </tr>\n",
       "  </thead>\n",
       "  <tbody>\n",
       "    <tr>\n",
       "      <th>0</th>\n",
       "      <td>0</td>\n",
       "      <td>A</td>\n",
       "      <td>1.0</td>\n",
       "      <td>True</td>\n",
       "    </tr>\n",
       "    <tr>\n",
       "      <th>1</th>\n",
       "      <td>1</td>\n",
       "      <td>B</td>\n",
       "      <td>2.0</td>\n",
       "      <td>False</td>\n",
       "    </tr>\n",
       "    <tr>\n",
       "      <th>2</th>\n",
       "      <td>2</td>\n",
       "      <td>C</td>\n",
       "      <td>3.0</td>\n",
       "      <td>NaN</td>\n",
       "    </tr>\n",
       "    <tr>\n",
       "      <th>3</th>\n",
       "      <td>3</td>\n",
       "      <td>D</td>\n",
       "      <td>NaN</td>\n",
       "      <td>True</td>\n",
       "    </tr>\n",
       "  </tbody>\n",
       "</table>\n",
       "</div>"
      ],
      "text/plain": [
       "   Unnamed: 0 name  mass is_agn\n",
       "0           0    A   1.0   True\n",
       "1           1    B   2.0  False\n",
       "2           2    C   3.0    NaN\n",
       "3           3    D   NaN   True"
      ]
     },
     "execution_count": 7,
     "metadata": {},
     "output_type": "execute_result"
    }
   ],
   "source": [
    "pd.read_csv('super_important_data.csv')"
   ]
  },
  {
   "cell_type": "markdown",
   "metadata": {},
   "source": [
    "Hmmm...we didn't want the indices as a column.  We have two options and we'll try both.\n",
    "1. When reading the csv file, tell `read_csv` that the first column is indices.\n",
    "2. Don't write the indices to the csv file in the first place and then you can read it back without any additional arguments."
   ]
  },
  {
   "cell_type": "code",
   "execution_count": 8,
   "metadata": {},
   "outputs": [
    {
     "data": {
      "text/html": [
       "<div>\n",
       "<style scoped>\n",
       "    .dataframe tbody tr th:only-of-type {\n",
       "        vertical-align: middle;\n",
       "    }\n",
       "\n",
       "    .dataframe tbody tr th {\n",
       "        vertical-align: top;\n",
       "    }\n",
       "\n",
       "    .dataframe thead th {\n",
       "        text-align: right;\n",
       "    }\n",
       "</style>\n",
       "<table border=\"1\" class=\"dataframe\">\n",
       "  <thead>\n",
       "    <tr style=\"text-align: right;\">\n",
       "      <th></th>\n",
       "      <th>name</th>\n",
       "      <th>mass</th>\n",
       "      <th>is_agn</th>\n",
       "    </tr>\n",
       "  </thead>\n",
       "  <tbody>\n",
       "    <tr>\n",
       "      <th>0</th>\n",
       "      <td>A</td>\n",
       "      <td>1.0</td>\n",
       "      <td>True</td>\n",
       "    </tr>\n",
       "    <tr>\n",
       "      <th>1</th>\n",
       "      <td>B</td>\n",
       "      <td>2.0</td>\n",
       "      <td>False</td>\n",
       "    </tr>\n",
       "    <tr>\n",
       "      <th>2</th>\n",
       "      <td>C</td>\n",
       "      <td>3.0</td>\n",
       "      <td>NaN</td>\n",
       "    </tr>\n",
       "    <tr>\n",
       "      <th>3</th>\n",
       "      <td>D</td>\n",
       "      <td>NaN</td>\n",
       "      <td>True</td>\n",
       "    </tr>\n",
       "  </tbody>\n",
       "</table>\n",
       "</div>"
      ],
      "text/plain": [
       "  name  mass is_agn\n",
       "0    A   1.0   True\n",
       "1    B   2.0  False\n",
       "2    C   3.0    NaN\n",
       "3    D   NaN   True"
      ]
     },
     "execution_count": 8,
     "metadata": {},
     "output_type": "execute_result"
    }
   ],
   "source": [
    "# Try Option 1\n",
    "\n",
    "# YOUR CODE HERE\n",
    "\n",
    "pd.read_csv('super_important_data.csv', index_col=0)"
   ]
  },
  {
   "cell_type": "code",
   "execution_count": 9,
   "metadata": {},
   "outputs": [
    {
     "data": {
      "text/html": [
       "<div>\n",
       "<style scoped>\n",
       "    .dataframe tbody tr th:only-of-type {\n",
       "        vertical-align: middle;\n",
       "    }\n",
       "\n",
       "    .dataframe tbody tr th {\n",
       "        vertical-align: top;\n",
       "    }\n",
       "\n",
       "    .dataframe thead th {\n",
       "        text-align: right;\n",
       "    }\n",
       "</style>\n",
       "<table border=\"1\" class=\"dataframe\">\n",
       "  <thead>\n",
       "    <tr style=\"text-align: right;\">\n",
       "      <th></th>\n",
       "      <th>name</th>\n",
       "      <th>mass</th>\n",
       "      <th>is_agn</th>\n",
       "    </tr>\n",
       "  </thead>\n",
       "  <tbody>\n",
       "    <tr>\n",
       "      <th>0</th>\n",
       "      <td>A</td>\n",
       "      <td>1.0</td>\n",
       "      <td>True</td>\n",
       "    </tr>\n",
       "    <tr>\n",
       "      <th>1</th>\n",
       "      <td>B</td>\n",
       "      <td>2.0</td>\n",
       "      <td>False</td>\n",
       "    </tr>\n",
       "    <tr>\n",
       "      <th>2</th>\n",
       "      <td>C</td>\n",
       "      <td>3.0</td>\n",
       "      <td>NaN</td>\n",
       "    </tr>\n",
       "    <tr>\n",
       "      <th>3</th>\n",
       "      <td>D</td>\n",
       "      <td>NaN</td>\n",
       "      <td>True</td>\n",
       "    </tr>\n",
       "  </tbody>\n",
       "</table>\n",
       "</div>"
      ],
      "text/plain": [
       "  name  mass is_agn\n",
       "0    A   1.0   True\n",
       "1    B   2.0  False\n",
       "2    C   3.0    NaN\n",
       "3    D   NaN   True"
      ]
     },
     "execution_count": 9,
     "metadata": {},
     "output_type": "execute_result"
    }
   ],
   "source": [
    "# Try Option 2\n",
    "\n",
    "# YOUR CODE HERE\n",
    "\n",
    "outer.to_csv('super_important_data_no_index.csv', index=False)\n",
    "pd.read_csv('super_important_data_no_index.csv')"
   ]
  },
  {
   "cell_type": "markdown",
   "metadata": {},
   "source": [
    "### Exercise 3: Using `read_csv` to read in ASCII files\n",
    "`read_csv()` is a versatile function that can read in data stored in text files.  Often you will have to use its arguments and a little manual data cleaning to read in the data properly, so we'll go through two examples of data files from the literature that require a little bit of massaging to get them into the form we want.\n",
    "\n",
    "#### Example: read in data about starburst galaxies\n",
    "Read in the `starbursts.txt` data from [Andrews & Thompson (2011)](https://arxiv.org/pdf/1011.0955.pdf).  This columns in this file aren't comma separated, so you'll have to tell `read_csv()` what the delimiter should be. It also has a header, so you'll need to figure out how to skip rows.  And you may need to figure out how to get the columns names correct (potentially manually)."
   ]
  },
  {
   "cell_type": "code",
   "execution_count": 10,
   "metadata": {},
   "outputs": [
    {
     "data": {
      "text/html": [
       "<div>\n",
       "<style scoped>\n",
       "    .dataframe tbody tr th:only-of-type {\n",
       "        vertical-align: middle;\n",
       "    }\n",
       "\n",
       "    .dataframe tbody tr th {\n",
       "        vertical-align: top;\n",
       "    }\n",
       "\n",
       "    .dataframe thead th {\n",
       "        text-align: right;\n",
       "    }\n",
       "</style>\n",
       "<table border=\"1\" class=\"dataframe\">\n",
       "  <thead>\n",
       "    <tr style=\"text-align: right;\">\n",
       "      <th></th>\n",
       "      <th>name</th>\n",
       "      <th>luminosity</th>\n",
       "      <th>radius</th>\n",
       "      <th>sigma_gas</th>\n",
       "      <th>sigma_tot</th>\n",
       "    </tr>\n",
       "  </thead>\n",
       "  <tbody>\n",
       "    <tr>\n",
       "      <th>0</th>\n",
       "      <td>Arp220E</td>\n",
       "      <td>2.000000e+11</td>\n",
       "      <td>110.0</td>\n",
       "      <td>6.060000</td>\n",
       "      <td>17.629999</td>\n",
       "    </tr>\n",
       "    <tr>\n",
       "      <th>1</th>\n",
       "      <td>Arp220W</td>\n",
       "      <td>3.000000e+11</td>\n",
       "      <td>68.0</td>\n",
       "      <td>8.650000</td>\n",
       "      <td>20.190001</td>\n",
       "    </tr>\n",
       "    <tr>\n",
       "      <th>2</th>\n",
       "      <td>Arp193SE</td>\n",
       "      <td>2.000000e+11</td>\n",
       "      <td>150.0</td>\n",
       "      <td>1.780000</td>\n",
       "      <td>4.150000</td>\n",
       "    </tr>\n",
       "    <tr>\n",
       "      <th>3</th>\n",
       "      <td>Mrk273</td>\n",
       "      <td>6.000000e+11</td>\n",
       "      <td>120.0</td>\n",
       "      <td>4.630000</td>\n",
       "      <td>12.040000</td>\n",
       "    </tr>\n",
       "    <tr>\n",
       "      <th>4</th>\n",
       "      <td>Arp220W2</td>\n",
       "      <td>9.000000e+11</td>\n",
       "      <td>30.0</td>\n",
       "      <td>74.080002</td>\n",
       "      <td>74.080002</td>\n",
       "    </tr>\n",
       "    <tr>\n",
       "      <th>5</th>\n",
       "      <td>Arp220W3</td>\n",
       "      <td>2.200000e+11</td>\n",
       "      <td>40.0</td>\n",
       "      <td>5.600000</td>\n",
       "      <td>25.000000</td>\n",
       "    </tr>\n",
       "    <tr>\n",
       "      <th>6</th>\n",
       "      <td>M82</td>\n",
       "      <td>7.850000e+10</td>\n",
       "      <td>270.0</td>\n",
       "      <td>0.640000</td>\n",
       "      <td>0.720000</td>\n",
       "    </tr>\n",
       "    <tr>\n",
       "      <th>7</th>\n",
       "      <td>M83</td>\n",
       "      <td>1.550000e+09</td>\n",
       "      <td>290.0</td>\n",
       "      <td>0.220000</td>\n",
       "      <td>0.290000</td>\n",
       "    </tr>\n",
       "  </tbody>\n",
       "</table>\n",
       "</div>"
      ],
      "text/plain": [
       "       name    luminosity  radius  sigma_gas  sigma_tot\n",
       "0   Arp220E  2.000000e+11   110.0   6.060000  17.629999\n",
       "1   Arp220W  3.000000e+11    68.0   8.650000  20.190001\n",
       "2  Arp193SE  2.000000e+11   150.0   1.780000   4.150000\n",
       "3    Mrk273  6.000000e+11   120.0   4.630000  12.040000\n",
       "4  Arp220W2  9.000000e+11    30.0  74.080002  74.080002\n",
       "5  Arp220W3  2.200000e+11    40.0   5.600000  25.000000\n",
       "6       M82  7.850000e+10   270.0   0.640000   0.720000\n",
       "7       M83  1.550000e+09   290.0   0.220000   0.290000"
      ]
     },
     "execution_count": 10,
     "metadata": {},
     "output_type": "execute_result"
    }
   ],
   "source": [
    "# YOUR CODE HERE\n",
    "sb = pd.read_csv('starbursts.txt', skiprows=4, delim_whitespace=True,\n",
    "                 names=['name', 'luminosity', 'radius', 'sigma_gas', 'sigma_tot'])\n",
    "sb"
   ]
  },
  {
   "cell_type": "markdown",
   "metadata": {},
   "source": [
    "We can select a column using the same syntax as accessing a dictionary value by key..."
   ]
  },
  {
   "cell_type": "code",
   "execution_count": 11,
   "metadata": {},
   "outputs": [
    {
     "data": {
      "text/plain": [
       "0     Arp220E\n",
       "1     Arp220W\n",
       "2    Arp193SE\n",
       "3      Mrk273\n",
       "4    Arp220W2\n",
       "5    Arp220W3\n",
       "6         M82\n",
       "7         M83\n",
       "Name: name, dtype: object"
      ]
     },
     "execution_count": 11,
     "metadata": {},
     "output_type": "execute_result"
    }
   ],
   "source": [
    "sb['name']"
   ]
  },
  {
   "cell_type": "markdown",
   "metadata": {},
   "source": [
    "...or using a dot syntax (though this won't work if the column name is also a method/property of a DataFrame, such as `max`)"
   ]
  },
  {
   "cell_type": "code",
   "execution_count": 12,
   "metadata": {},
   "outputs": [
    {
     "data": {
      "text/plain": [
       "0    2.000000e+11\n",
       "1    3.000000e+11\n",
       "2    2.000000e+11\n",
       "3    6.000000e+11\n",
       "4    9.000000e+11\n",
       "5    2.200000e+11\n",
       "6    7.850000e+10\n",
       "7    1.550000e+09\n",
       "Name: luminosity, dtype: float64"
      ]
     },
     "execution_count": 12,
     "metadata": {},
     "output_type": "execute_result"
    }
   ],
   "source": [
    "sb.luminosity"
   ]
  },
  {
   "cell_type": "markdown",
   "metadata": {},
   "source": [
    "These selections produce a `Series`, basically a 1-D array with labels. Most of your work in Pandas will be using 2-D DataFrames, so we won't say anything more about Series."
   ]
  },
  {
   "cell_type": "markdown",
   "metadata": {},
   "source": [
    "We can also select multiple columns simultaneously and produce a DataFrame using a list of column names."
   ]
  },
  {
   "cell_type": "code",
   "execution_count": 13,
   "metadata": {},
   "outputs": [
    {
     "data": {
      "text/html": [
       "<div>\n",
       "<style scoped>\n",
       "    .dataframe tbody tr th:only-of-type {\n",
       "        vertical-align: middle;\n",
       "    }\n",
       "\n",
       "    .dataframe tbody tr th {\n",
       "        vertical-align: top;\n",
       "    }\n",
       "\n",
       "    .dataframe thead th {\n",
       "        text-align: right;\n",
       "    }\n",
       "</style>\n",
       "<table border=\"1\" class=\"dataframe\">\n",
       "  <thead>\n",
       "    <tr style=\"text-align: right;\">\n",
       "      <th></th>\n",
       "      <th>name</th>\n",
       "      <th>luminosity</th>\n",
       "    </tr>\n",
       "  </thead>\n",
       "  <tbody>\n",
       "    <tr>\n",
       "      <th>0</th>\n",
       "      <td>Arp220E</td>\n",
       "      <td>2.000000e+11</td>\n",
       "    </tr>\n",
       "    <tr>\n",
       "      <th>1</th>\n",
       "      <td>Arp220W</td>\n",
       "      <td>3.000000e+11</td>\n",
       "    </tr>\n",
       "    <tr>\n",
       "      <th>2</th>\n",
       "      <td>Arp193SE</td>\n",
       "      <td>2.000000e+11</td>\n",
       "    </tr>\n",
       "    <tr>\n",
       "      <th>3</th>\n",
       "      <td>Mrk273</td>\n",
       "      <td>6.000000e+11</td>\n",
       "    </tr>\n",
       "    <tr>\n",
       "      <th>4</th>\n",
       "      <td>Arp220W2</td>\n",
       "      <td>9.000000e+11</td>\n",
       "    </tr>\n",
       "    <tr>\n",
       "      <th>5</th>\n",
       "      <td>Arp220W3</td>\n",
       "      <td>2.200000e+11</td>\n",
       "    </tr>\n",
       "    <tr>\n",
       "      <th>6</th>\n",
       "      <td>M82</td>\n",
       "      <td>7.850000e+10</td>\n",
       "    </tr>\n",
       "    <tr>\n",
       "      <th>7</th>\n",
       "      <td>M83</td>\n",
       "      <td>1.550000e+09</td>\n",
       "    </tr>\n",
       "  </tbody>\n",
       "</table>\n",
       "</div>"
      ],
      "text/plain": [
       "       name    luminosity\n",
       "0   Arp220E  2.000000e+11\n",
       "1   Arp220W  3.000000e+11\n",
       "2  Arp193SE  2.000000e+11\n",
       "3    Mrk273  6.000000e+11\n",
       "4  Arp220W2  9.000000e+11\n",
       "5  Arp220W3  2.200000e+11\n",
       "6       M82  7.850000e+10\n",
       "7       M83  1.550000e+09"
      ]
     },
     "execution_count": 13,
     "metadata": {},
     "output_type": "execute_result"
    }
   ],
   "source": [
    "sb[['name', 'luminosity']]"
   ]
  },
  {
   "cell_type": "markdown",
   "metadata": {},
   "source": [
    "If we want to select a row, then we have two options: `df.loc` and `df.iloc`. Let's copy the `sb` dataframe and set the indices to be the `name` column."
   ]
  },
  {
   "cell_type": "code",
   "execution_count": 14,
   "metadata": {},
   "outputs": [
    {
     "data": {
      "text/html": [
       "<div>\n",
       "<style scoped>\n",
       "    .dataframe tbody tr th:only-of-type {\n",
       "        vertical-align: middle;\n",
       "    }\n",
       "\n",
       "    .dataframe tbody tr th {\n",
       "        vertical-align: top;\n",
       "    }\n",
       "\n",
       "    .dataframe thead th {\n",
       "        text-align: right;\n",
       "    }\n",
       "</style>\n",
       "<table border=\"1\" class=\"dataframe\">\n",
       "  <thead>\n",
       "    <tr style=\"text-align: right;\">\n",
       "      <th></th>\n",
       "      <th>luminosity</th>\n",
       "      <th>radius</th>\n",
       "      <th>sigma_gas</th>\n",
       "      <th>sigma_tot</th>\n",
       "    </tr>\n",
       "    <tr>\n",
       "      <th>name</th>\n",
       "      <th></th>\n",
       "      <th></th>\n",
       "      <th></th>\n",
       "      <th></th>\n",
       "    </tr>\n",
       "  </thead>\n",
       "  <tbody>\n",
       "    <tr>\n",
       "      <th>Arp220E</th>\n",
       "      <td>2.000000e+11</td>\n",
       "      <td>110.0</td>\n",
       "      <td>6.060000</td>\n",
       "      <td>17.629999</td>\n",
       "    </tr>\n",
       "    <tr>\n",
       "      <th>Arp220W</th>\n",
       "      <td>3.000000e+11</td>\n",
       "      <td>68.0</td>\n",
       "      <td>8.650000</td>\n",
       "      <td>20.190001</td>\n",
       "    </tr>\n",
       "    <tr>\n",
       "      <th>Arp193SE</th>\n",
       "      <td>2.000000e+11</td>\n",
       "      <td>150.0</td>\n",
       "      <td>1.780000</td>\n",
       "      <td>4.150000</td>\n",
       "    </tr>\n",
       "    <tr>\n",
       "      <th>Mrk273</th>\n",
       "      <td>6.000000e+11</td>\n",
       "      <td>120.0</td>\n",
       "      <td>4.630000</td>\n",
       "      <td>12.040000</td>\n",
       "    </tr>\n",
       "    <tr>\n",
       "      <th>Arp220W2</th>\n",
       "      <td>9.000000e+11</td>\n",
       "      <td>30.0</td>\n",
       "      <td>74.080002</td>\n",
       "      <td>74.080002</td>\n",
       "    </tr>\n",
       "    <tr>\n",
       "      <th>Arp220W3</th>\n",
       "      <td>2.200000e+11</td>\n",
       "      <td>40.0</td>\n",
       "      <td>5.600000</td>\n",
       "      <td>25.000000</td>\n",
       "    </tr>\n",
       "    <tr>\n",
       "      <th>M82</th>\n",
       "      <td>7.850000e+10</td>\n",
       "      <td>270.0</td>\n",
       "      <td>0.640000</td>\n",
       "      <td>0.720000</td>\n",
       "    </tr>\n",
       "    <tr>\n",
       "      <th>M83</th>\n",
       "      <td>1.550000e+09</td>\n",
       "      <td>290.0</td>\n",
       "      <td>0.220000</td>\n",
       "      <td>0.290000</td>\n",
       "    </tr>\n",
       "  </tbody>\n",
       "</table>\n",
       "</div>"
      ],
      "text/plain": [
       "            luminosity  radius  sigma_gas  sigma_tot\n",
       "name                                                \n",
       "Arp220E   2.000000e+11   110.0   6.060000  17.629999\n",
       "Arp220W   3.000000e+11    68.0   8.650000  20.190001\n",
       "Arp193SE  2.000000e+11   150.0   1.780000   4.150000\n",
       "Mrk273    6.000000e+11   120.0   4.630000  12.040000\n",
       "Arp220W2  9.000000e+11    30.0  74.080002  74.080002\n",
       "Arp220W3  2.200000e+11    40.0   5.600000  25.000000\n",
       "M82       7.850000e+10   270.0   0.640000   0.720000\n",
       "M83       1.550000e+09   290.0   0.220000   0.290000"
      ]
     },
     "execution_count": 14,
     "metadata": {},
     "output_type": "execute_result"
    }
   ],
   "source": [
    "sb2 = sb.copy()\n",
    "sb2.set_index('name', inplace=True)\n",
    "sb2"
   ]
  },
  {
   "cell_type": "markdown",
   "metadata": {},
   "source": [
    "We can select individual rows by label with `.loc`."
   ]
  },
  {
   "cell_type": "code",
   "execution_count": 15,
   "metadata": {},
   "outputs": [
    {
     "data": {
      "text/plain": [
       "luminosity    7.850000e+10\n",
       "radius        2.700000e+02\n",
       "sigma_gas     6.400000e-01\n",
       "sigma_tot     7.200000e-01\n",
       "Name: M82, dtype: float64"
      ]
     },
     "execution_count": 15,
     "metadata": {},
     "output_type": "execute_result"
    }
   ],
   "source": [
    "sb2.loc['M82']"
   ]
  },
  {
   "cell_type": "markdown",
   "metadata": {},
   "source": [
    "If you want to use the element number, use `iloc`. Let's choose the `0th` row:"
   ]
  },
  {
   "cell_type": "code",
   "execution_count": 16,
   "metadata": {},
   "outputs": [
    {
     "data": {
      "text/plain": [
       "name          Arp220E\n",
       "luminosity      2e+11\n",
       "radius            110\n",
       "sigma_gas        6.06\n",
       "sigma_tot       17.63\n",
       "Name: 0, dtype: object"
      ]
     },
     "execution_count": 16,
     "metadata": {},
     "output_type": "execute_result"
    }
   ],
   "source": [
    "sb.iloc[0]"
   ]
  },
  {
   "cell_type": "markdown",
   "metadata": {},
   "source": [
    "and the `0th` row and `1th` column:"
   ]
  },
  {
   "cell_type": "code",
   "execution_count": 17,
   "metadata": {},
   "outputs": [
    {
     "data": {
      "text/plain": [
       "200000000000.0"
      ]
     },
     "execution_count": 17,
     "metadata": {},
     "output_type": "execute_result"
    }
   ],
   "source": [
    "sb.iloc[0, 1]"
   ]
  },
  {
   "cell_type": "markdown",
   "metadata": {},
   "source": [
    "We can select multiple rows and get out a dataframe:"
   ]
  },
  {
   "cell_type": "code",
   "execution_count": 18,
   "metadata": {},
   "outputs": [
    {
     "data": {
      "text/html": [
       "<div>\n",
       "<style scoped>\n",
       "    .dataframe tbody tr th:only-of-type {\n",
       "        vertical-align: middle;\n",
       "    }\n",
       "\n",
       "    .dataframe tbody tr th {\n",
       "        vertical-align: top;\n",
       "    }\n",
       "\n",
       "    .dataframe thead th {\n",
       "        text-align: right;\n",
       "    }\n",
       "</style>\n",
       "<table border=\"1\" class=\"dataframe\">\n",
       "  <thead>\n",
       "    <tr style=\"text-align: right;\">\n",
       "      <th></th>\n",
       "      <th>name</th>\n",
       "      <th>luminosity</th>\n",
       "      <th>radius</th>\n",
       "      <th>sigma_gas</th>\n",
       "      <th>sigma_tot</th>\n",
       "    </tr>\n",
       "  </thead>\n",
       "  <tbody>\n",
       "    <tr>\n",
       "      <th>0</th>\n",
       "      <td>Arp220E</td>\n",
       "      <td>2.000000e+11</td>\n",
       "      <td>110.0</td>\n",
       "      <td>6.06</td>\n",
       "      <td>17.629999</td>\n",
       "    </tr>\n",
       "    <tr>\n",
       "      <th>1</th>\n",
       "      <td>Arp220W</td>\n",
       "      <td>3.000000e+11</td>\n",
       "      <td>68.0</td>\n",
       "      <td>8.65</td>\n",
       "      <td>20.190001</td>\n",
       "    </tr>\n",
       "  </tbody>\n",
       "</table>\n",
       "</div>"
      ],
      "text/plain": [
       "      name    luminosity  radius  sigma_gas  sigma_tot\n",
       "0  Arp220E  2.000000e+11   110.0       6.06  17.629999\n",
       "1  Arp220W  3.000000e+11    68.0       8.65  20.190001"
      ]
     },
     "execution_count": 18,
     "metadata": {},
     "output_type": "execute_result"
    }
   ],
   "source": [
    "sb.iloc[0:2]"
   ]
  },
  {
   "cell_type": "markdown",
   "metadata": {},
   "source": [
    "### Exercise 4\n",
    "Try selecting the first two rows and the \"name\", \"luminosity\", and \"sigma_gas\" values for the `sb` dataframe."
   ]
  },
  {
   "cell_type": "code",
   "execution_count": 19,
   "metadata": {},
   "outputs": [
    {
     "data": {
      "text/html": [
       "<div>\n",
       "<style scoped>\n",
       "    .dataframe tbody tr th:only-of-type {\n",
       "        vertical-align: middle;\n",
       "    }\n",
       "\n",
       "    .dataframe tbody tr th {\n",
       "        vertical-align: top;\n",
       "    }\n",
       "\n",
       "    .dataframe thead th {\n",
       "        text-align: right;\n",
       "    }\n",
       "</style>\n",
       "<table border=\"1\" class=\"dataframe\">\n",
       "  <thead>\n",
       "    <tr style=\"text-align: right;\">\n",
       "      <th></th>\n",
       "      <th>name</th>\n",
       "      <th>luminosity</th>\n",
       "      <th>sigma_gas</th>\n",
       "    </tr>\n",
       "  </thead>\n",
       "  <tbody>\n",
       "    <tr>\n",
       "      <th>0</th>\n",
       "      <td>Arp220E</td>\n",
       "      <td>2.000000e+11</td>\n",
       "      <td>6.06</td>\n",
       "    </tr>\n",
       "    <tr>\n",
       "      <th>1</th>\n",
       "      <td>Arp220W</td>\n",
       "      <td>3.000000e+11</td>\n",
       "      <td>8.65</td>\n",
       "    </tr>\n",
       "  </tbody>\n",
       "</table>\n",
       "</div>"
      ],
      "text/plain": [
       "      name    luminosity  sigma_gas\n",
       "0  Arp220E  2.000000e+11       6.06\n",
       "1  Arp220W  3.000000e+11       8.65"
      ]
     },
     "execution_count": 19,
     "metadata": {},
     "output_type": "execute_result"
    }
   ],
   "source": [
    "# YOUR CODE HERE\n",
    "sb.iloc[0:2, [0, 1, 3]]"
   ]
  },
  {
   "cell_type": "markdown",
   "metadata": {},
   "source": [
    "We can also use masks for Pandas DataFrames."
   ]
  },
  {
   "cell_type": "code",
   "execution_count": 20,
   "metadata": {},
   "outputs": [
    {
     "data": {
      "text/html": [
       "<div>\n",
       "<style scoped>\n",
       "    .dataframe tbody tr th:only-of-type {\n",
       "        vertical-align: middle;\n",
       "    }\n",
       "\n",
       "    .dataframe tbody tr th {\n",
       "        vertical-align: top;\n",
       "    }\n",
       "\n",
       "    .dataframe thead th {\n",
       "        text-align: right;\n",
       "    }\n",
       "</style>\n",
       "<table border=\"1\" class=\"dataframe\">\n",
       "  <thead>\n",
       "    <tr style=\"text-align: right;\">\n",
       "      <th></th>\n",
       "      <th>name</th>\n",
       "      <th>luminosity</th>\n",
       "      <th>radius</th>\n",
       "      <th>sigma_gas</th>\n",
       "      <th>sigma_tot</th>\n",
       "    </tr>\n",
       "  </thead>\n",
       "  <tbody>\n",
       "    <tr>\n",
       "      <th>3</th>\n",
       "      <td>Mrk273</td>\n",
       "      <td>6.000000e+11</td>\n",
       "      <td>120.0</td>\n",
       "      <td>4.630000</td>\n",
       "      <td>12.040000</td>\n",
       "    </tr>\n",
       "    <tr>\n",
       "      <th>4</th>\n",
       "      <td>Arp220W2</td>\n",
       "      <td>9.000000e+11</td>\n",
       "      <td>30.0</td>\n",
       "      <td>74.080002</td>\n",
       "      <td>74.080002</td>\n",
       "    </tr>\n",
       "  </tbody>\n",
       "</table>\n",
       "</div>"
      ],
      "text/plain": [
       "       name    luminosity  radius  sigma_gas  sigma_tot\n",
       "3    Mrk273  6.000000e+11   120.0   4.630000  12.040000\n",
       "4  Arp220W2  9.000000e+11    30.0  74.080002  74.080002"
      ]
     },
     "execution_count": 20,
     "metadata": {},
     "output_type": "execute_result"
    }
   ],
   "source": [
    "sb[sb.luminosity > 5e11]"
   ]
  },
  {
   "cell_type": "markdown",
   "metadata": {},
   "source": [
    "Finally we can use `pd.DataFrame`'s `plot` method to quickly look at our data."
   ]
  },
  {
   "cell_type": "code",
   "execution_count": 21,
   "metadata": {},
   "outputs": [
    {
     "data": {
      "text/plain": [
       "<AxesSubplot:xlabel='luminosity', ylabel='radius'>"
      ]
     },
     "execution_count": 21,
     "metadata": {},
     "output_type": "execute_result"
    },
    {
     "data": {
      "image/png": "[encoded data removed]",
      "text/plain": [
       "<Figure size 432x288 with 1 Axes>"
      ]
     },
     "metadata": {
      "image/png": {
       "height": 259,
       "width": 382
      },
      "needs_background": "light"
     },
     "output_type": "display_data"
    }
   ],
   "source": [
    "sb.plot(x='luminosity', y='radius', kind='scatter')"
   ]
  },
  {
   "cell_type": "markdown",
   "metadata": {},
   "source": [
    "### Exercise 5\n",
    "\n",
    "Let's try to remake a plot from Andrews & Thompson (2011)---or at least a part of it---from our data. First, we're going to need to convert units to centimeters-grams-seconds (cgs). Then we'll apply a few simple formulas.\n",
    "\n",
    "Handy chart of conversions to cgs: http://www.astro.wisc.edu/~dolan/constants.html"
   ]
  },
  {
   "cell_type": "markdown",
   "metadata": {},
   "source": [
    "The midplane pressure is $p_\\mathrm{mid} = 0.5 \\pi G \\Sigma_\\mathrm{gas} \\Sigma_\\mathrm{tot}$"
   ]
  },
  {
   "cell_type": "code",
   "execution_count": 22,
   "metadata": {},
   "outputs": [],
   "source": [
    "# calculate the midplane pressure (the restoring force due to gravity)\n",
    "\n",
    "G = 6.67e-8  # gravitational constant in cgs\n",
    "c = 3e10  # speed of light in cgs\n",
    "\n",
    "# YOUR CODE HERE\n",
    "p_mid = 0.5 * np.pi * G * sb.sigma_gas * sb.sigma_tot\n",
    "######"
   ]
  },
  {
   "cell_type": "markdown",
   "metadata": {},
   "source": [
    "The radiation pressure is $p_\\mathrm{rad} = (1 + \\tau_\\mathrm{FIR}) * flux / c$, where $flux = luminosity / (4 \\pi r^2)$."
   ]
  },
  {
   "cell_type": "code",
   "execution_count": 23,
   "metadata": {},
   "outputs": [],
   "source": [
    "# calculate the radiation pressure\n",
    "\n",
    "tau_FIR = 10  # Far-infrared optical depth\n",
    "\n",
    "\n",
    "# YOUR CODE HERE\n",
    "flux = (sb.luminosity * 3.9e33) / (4 * np.pi * (sb.radius * 3.086e18)**2)\n",
    "\n",
    "p_rad = (1 + tau_FIR) * flux / c\n",
    "######\n"
   ]
  },
  {
   "cell_type": "code",
   "execution_count": 24,
   "metadata": {},
   "outputs": [
    {
     "data": {
      "text/plain": [
       "Text(0, 0.5, 'log(P$_\\\\mathrm{radiation}$ [ergs cm$^{-3}$])')"
      ]
     },
     "execution_count": 24,
     "metadata": {},
     "output_type": "execute_result"
    },
    {
     "data": {
      "image/png": "[encoded data removed]",
      "text/plain": [
       "<Figure size 432x432 with 1 Axes>"
      ]
     },
     "metadata": {
      "image/png": {
       "height": 381,
       "width": 398
      },
      "needs_background": "light"
     },
     "output_type": "display_data"
    }
   ],
   "source": [
    "fig, ax = plt.subplots(figsize=(6, 6))\n",
    "ax.scatter(np.log10(p_mid), np.log10(p_rad))\n",
    "ax.plot([-12, -2], [-12, -2], 'k')\n",
    "ax.set_xlim([-12, -2])\n",
    "ax.set_ylim([-12, -2])\n",
    "ax.text(-8.5, -8, 'Eddington Limit', rotation=45, fontsize=16)\n",
    "ax.set_xlabel(r'log(P$_\\mathrm{midplane}$ [ergs cm$^{-3}$])', fontsize=16)\n",
    "ax.set_ylabel(r'log(P$_\\mathrm{radiation}$ [ergs cm$^{-3}$])', fontsize=16)"
   ]
  },
  {
   "cell_type": "markdown",
   "metadata": {},
   "source": [
    "### Exercise 6\n",
    "\n",
    "Read in data from a paper. In this case we're using Table 1 from David Setton's paper [Setton et al. (2020)](https://ui.adsabs.harvard.edu/abs/2020ApJ...905...79S/abstract).  As typeset in the paper, the table looks like the following."
   ]
  },
  {
   "cell_type": "code",
   "execution_count": 25,
   "metadata": {},
   "outputs": [
    {
     "data": {
      "image/gif": "[encoded data removed]",
      "text/plain": [
       "<IPython.core.display.Image object>"
      ]
     },
     "execution_count": 25,
     "metadata": {},
     "output_type": "execute_result"
    }
   ],
   "source": [
    "from IPython.display import Image\n",
    "Image(filename='squiggle_table1.gif') "
   ]
  },
  {
   "cell_type": "markdown",
   "metadata": {},
   "source": [
    "However, in ASCII format, the table looks like this:"
   ]
  },
  {
   "cell_type": "code",
   "execution_count": 26,
   "metadata": {},
   "outputs": [],
   "source": [
    "\"\"\"\n",
    "Table 1\n",
    "Properties of the GMOS Observations\n",
    "\n",
    "\n",
    "ID\tName\tR.A.\tDecl.\tz\tStellar\ti\tGMOS\tIntegration^a\tImage^b\n",
    "\t\t\t\t\tMass\t\tProgram\tTime\tQuality\n",
    "\t\t(degrees)\t(degrees)\t\t$\\left(\\mathrm{log}\\tfrac{{M}_{\\star }}{{M}_{\\odot }}\\right)$\t(AB Mag)\t\t(s)\n",
    "SDSS J110932.14-004003.8\tJ1109-0040\t167.384\t-0.6678\t0.593\t11.09\t18.8\tGN-2019A-Q-234\t9720\t20\n",
    "SDSS J023359.33+005238.4\tJ0233+0052\t38.4972\t0.8774\t0.592\t11.15\t18.72\tGN-2017B-Q-37\t7560 (6480)\t20\n",
    "SDSS J091242.76+152305.1\tJ0912+1523\t138.1782\t15.3848\t0.747\t11.25\t18.63\tGN-2016A-FT-6\t9802\t20\n",
    "SDSS J083547.08+312144.5\tJ0835+3121\t128.9462\t31.3624\t0.506\t10.98\t18.11\tGN-2017B-Q-37\t6300\t70\n",
    "SDSS J075344.17+240336.1\tJ0753+2403\t118.4341\t24.0601\t0.565\t11.18\t18.72\tGN-2017B-Q-37\t8640 (5400)\t70\n",
    "SDSS J144845.91+101010.5\tJ1448+1010\t222.1913\t10.1696\t0.646\t11.24\t18.67\tGS-2018A-FT-112\t11880 (8640)\t70\n",
    "Notes.\n",
    "^a Integration time that was considered useful is shown in parentheses if it differs from the total integration time. Useful frames of data are those that do not have visible issues after scattered-light subtraction or significant noise spikes in the Hdelta_A bandpass.\n",
    "^b The Image Quality quoted is the worst-case conditions under which the majority of frames were observed. IQ20 corresponds to FWHM <or= 0.\"5 seeing and IQ70 corresponds to FWHM <or= 0.\"75 seeing at zenith.\n",
    "\"\"\";"
   ]
  },
  {
   "cell_type": "markdown",
   "metadata": {},
   "source": [
    "Try reading in this table.\n",
    "\n",
    "- Hint 1: the columns are tab separated and the special character to indicate tab is `\\t`.\n",
    "- Hint 2: you might need to skip rows at the top and bottom (i.e., footer)\n",
    "- Hint 3: because the column names span multiple rows, it might be easier to just manually pass in the columns names."
   ]
  },
  {
   "cell_type": "code",
   "execution_count": 27,
   "metadata": {},
   "outputs": [
    {
     "name": "stderr",
     "output_type": "stream",
     "text": [
      "<ipython-input-27-cb9866cc692d>:5: ParserWarning: Falling back to the 'python' engine because the 'c' engine does not support skipfooter; you can avoid this warning by specifying engine='python'.\n",
      "  df = pd.read_csv('squiggle.txt', sep='\\t', skiprows=7, skipfooter=3, names=columns)\n"
     ]
    }
   ],
   "source": [
    "# YOUR CODE HERE\n",
    "\n",
    "columns = ['ID', 'Name', 'RA', 'Dec', 'z', 'Stellar Mass', 'i',\n",
    "           'GMOS Program', 'Integration Time', 'Image Quality']\n",
    "df = pd.read_csv('squiggle.txt', sep='\\t', skiprows=7, skipfooter=3, names=columns)"
   ]
  },
  {
   "cell_type": "markdown",
   "metadata": {},
   "source": [
    "It seems that the parentheses in the \"Integration Time\" column forced it to be strings instead of floats.  Let's adopt the non-parenthetical option for Integration Time. We split the strings on `' ('`, take the first value, and we set those values in the dataframe to be our new values."
   ]
  },
  {
   "cell_type": "code",
   "execution_count": 28,
   "metadata": {},
   "outputs": [],
   "source": [
    "df.loc[np.array([1, 4, 5]), 'Integration Time'] = [it.split(' (')[0] for it in df['Integration Time'].iloc[np.array([1, 4, 5])]]"
   ]
  },
  {
   "cell_type": "markdown",
   "metadata": {},
   "source": [
    "The data type of \"Integration Time\" is still `str`, so let's convert that column to `float` using `astype()`."
   ]
  },
  {
   "cell_type": "code",
   "execution_count": 29,
   "metadata": {},
   "outputs": [],
   "source": [
    "df['Integration Time'] = df['Integration Time'].astype(float)"
   ]
  },
  {
   "cell_type": "code",
   "execution_count": 30,
   "metadata": {},
   "outputs": [
    {
     "data": {
      "text/plain": [
       "0     9720.0\n",
       "1     7560.0\n",
       "2     9802.0\n",
       "3     6300.0\n",
       "4     8640.0\n",
       "5    11880.0\n",
       "Name: Integration Time, dtype: float64"
      ]
     },
     "execution_count": 30,
     "metadata": {},
     "output_type": "execute_result"
    }
   ],
   "source": [
    "df['Integration Time']"
   ]
  },
  {
   "cell_type": "code",
   "execution_count": 31,
   "metadata": {},
   "outputs": [
    {
     "data": {
      "text/html": [
       "<div>\n",
       "<style scoped>\n",
       "    .dataframe tbody tr th:only-of-type {\n",
       "        vertical-align: middle;\n",
       "    }\n",
       "\n",
       "    .dataframe tbody tr th {\n",
       "        vertical-align: top;\n",
       "    }\n",
       "\n",
       "    .dataframe thead th {\n",
       "        text-align: right;\n",
       "    }\n",
       "</style>\n",
       "<table border=\"1\" class=\"dataframe\">\n",
       "  <thead>\n",
       "    <tr style=\"text-align: right;\">\n",
       "      <th></th>\n",
       "      <th>ID</th>\n",
       "      <th>Name</th>\n",
       "      <th>RA</th>\n",
       "      <th>Dec</th>\n",
       "      <th>z</th>\n",
       "      <th>Stellar Mass</th>\n",
       "      <th>i</th>\n",
       "      <th>GMOS Program</th>\n",
       "      <th>Integration Time</th>\n",
       "      <th>Image Quality</th>\n",
       "    </tr>\n",
       "  </thead>\n",
       "  <tbody>\n",
       "    <tr>\n",
       "      <th>0</th>\n",
       "      <td>SDSS J110932.14-004003.8</td>\n",
       "      <td>J1109-0040</td>\n",
       "      <td>167.3840</td>\n",
       "      <td>-0.6678</td>\n",
       "      <td>0.593</td>\n",
       "      <td>11.09</td>\n",
       "      <td>18.80</td>\n",
       "      <td>GN-2019A-Q-234</td>\n",
       "      <td>9720.0</td>\n",
       "      <td>20</td>\n",
       "    </tr>\n",
       "    <tr>\n",
       "      <th>1</th>\n",
       "      <td>SDSS J023359.33+005238.4</td>\n",
       "      <td>J0233+0052</td>\n",
       "      <td>38.4972</td>\n",
       "      <td>0.8774</td>\n",
       "      <td>0.592</td>\n",
       "      <td>11.15</td>\n",
       "      <td>18.72</td>\n",
       "      <td>GN-2017B-Q-37</td>\n",
       "      <td>7560.0</td>\n",
       "      <td>20</td>\n",
       "    </tr>\n",
       "    <tr>\n",
       "      <th>2</th>\n",
       "      <td>SDSS J091242.76+152305.1</td>\n",
       "      <td>J0912+1523</td>\n",
       "      <td>138.1782</td>\n",
       "      <td>15.3848</td>\n",
       "      <td>0.747</td>\n",
       "      <td>11.25</td>\n",
       "      <td>18.63</td>\n",
       "      <td>GN-2016A-FT-6</td>\n",
       "      <td>9802.0</td>\n",
       "      <td>20</td>\n",
       "    </tr>\n",
       "    <tr>\n",
       "      <th>3</th>\n",
       "      <td>SDSS J083547.08+312144.5</td>\n",
       "      <td>J0835+3121</td>\n",
       "      <td>128.9462</td>\n",
       "      <td>31.3624</td>\n",
       "      <td>0.506</td>\n",
       "      <td>10.98</td>\n",
       "      <td>18.11</td>\n",
       "      <td>GN-2017B-Q-37</td>\n",
       "      <td>6300.0</td>\n",
       "      <td>70</td>\n",
       "    </tr>\n",
       "    <tr>\n",
       "      <th>4</th>\n",
       "      <td>SDSS J075344.17+240336.1</td>\n",
       "      <td>J0753+2403</td>\n",
       "      <td>118.4341</td>\n",
       "      <td>24.0601</td>\n",
       "      <td>0.565</td>\n",
       "      <td>11.18</td>\n",
       "      <td>18.72</td>\n",
       "      <td>GN-2017B-Q-37</td>\n",
       "      <td>8640.0</td>\n",
       "      <td>70</td>\n",
       "    </tr>\n",
       "    <tr>\n",
       "      <th>5</th>\n",
       "      <td>SDSS J144845.91+101010.5</td>\n",
       "      <td>J1448+1010</td>\n",
       "      <td>222.1913</td>\n",
       "      <td>10.1696</td>\n",
       "      <td>0.646</td>\n",
       "      <td>11.24</td>\n",
       "      <td>18.67</td>\n",
       "      <td>GS-2018A-FT-112</td>\n",
       "      <td>11880.0</td>\n",
       "      <td>70</td>\n",
       "    </tr>\n",
       "  </tbody>\n",
       "</table>\n",
       "</div>"
      ],
      "text/plain": [
       "                         ID        Name        RA      Dec      z  \\\n",
       "0  SDSS J110932.14-004003.8  J1109-0040  167.3840  -0.6678  0.593   \n",
       "1  SDSS J023359.33+005238.4  J0233+0052   38.4972   0.8774  0.592   \n",
       "2  SDSS J091242.76+152305.1  J0912+1523  138.1782  15.3848  0.747   \n",
       "3  SDSS J083547.08+312144.5  J0835+3121  128.9462  31.3624  0.506   \n",
       "4  SDSS J075344.17+240336.1  J0753+2403  118.4341  24.0601  0.565   \n",
       "5  SDSS J144845.91+101010.5  J1448+1010  222.1913  10.1696  0.646   \n",
       "\n",
       "   Stellar Mass      i     GMOS Program  Integration Time  Image Quality  \n",
       "0         11.09  18.80   GN-2019A-Q-234            9720.0             20  \n",
       "1         11.15  18.72    GN-2017B-Q-37            7560.0             20  \n",
       "2         11.25  18.63    GN-2016A-FT-6            9802.0             20  \n",
       "3         10.98  18.11    GN-2017B-Q-37            6300.0             70  \n",
       "4         11.18  18.72    GN-2017B-Q-37            8640.0             70  \n",
       "5         11.24  18.67  GS-2018A-FT-112           11880.0             70  "
      ]
     },
     "execution_count": 31,
     "metadata": {},
     "output_type": "execute_result"
    }
   ],
   "source": [
    "df"
   ]
  },
  {
   "cell_type": "markdown",
   "metadata": {},
   "source": [
    "### Learn more about Pandas\n",
    "\n",
    "Greg Reda's 3 part Introduction to Pandas:\n",
    "- [Part I: Intro to Pandas Data Structures](http://www.gregreda.com/2013/10/26/intro-to-pandas-data-structures/)\n",
    "- [Part II: Working with Pandas DataFrames](http://www.gregreda.com/2013/10/26/working-with-pandas-dataframes/)\n",
    "- [Part III: Using Pandas on the MovieLens Dataset](http://www.gregreda.com/2013/10/26/using-pandas-on-the-movielens-dataset/)\n",
    "\n",
    "More advanced: I really enjoyed Tom Augspurger's [Modern Pandas](https://tomaugspurger.github.io/modern-1-intro) tutorial series, especially the part about [method chaining](https://tomaugspurger.github.io/method-chaining.html).\n"
   ]
  },
  {
   "cell_type": "markdown",
   "metadata": {},
   "source": [
    "## Exit Survey"
   ]
  },
  {
   "cell_type": "code",
   "execution_count": null,
   "metadata": {},
   "outputs": [],
   "source": []
  }
 ],
 "metadata": {
  "kernelspec": {
   "display_name": "Python 3",
   "language": "python",
   "name": "python3"
  },
  "language_info": {
   "codemirror_mode": {
    "name": "ipython",
    "version": 3
   },
   "file_extension": ".py",
   "mimetype": "text/x-python",
   "name": "python",
   "nbconvert_exporter": "python",
   "pygments_lexer": "ipython3",
   "version": "3.8.5"
  }
 },
 "nbformat": 4,
 "nbformat_minor": 4
}
