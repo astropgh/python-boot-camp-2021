{
 "cells": [
  {
   "cell_type": "markdown",
   "metadata": {},
   "source": [
    "# Extremely Brief Intro to Pandas\n",
    "## `merge` and `read_csv`: Two Major Time-Saving Functions\n",
    "\n",
    "A very handy Pandas cheatsheet:\n",
    "https://github.com/pandas-dev/pandas/blob/master/doc/cheatsheet/Pandas_Cheat_Sheet.pdf"
   ]
  },
  {
   "cell_type": "code",
   "execution_count": null,
   "metadata": {},
   "outputs": [],
   "source": [
    "import matplotlib.pyplot as plt\n",
    "import numpy as np\n",
    "import pandas as pd\n",
    "\n",
    "# to create high-resolution figures\n",
    "%config InlineBackend.figure_format = \"retina\""
   ]
  },
  {
   "cell_type": "markdown",
   "metadata": {},
   "source": [
    "### `merge`: joining two dataframes"
   ]
  },
  {
   "cell_type": "code",
   "execution_count": null,
   "metadata": {},
   "outputs": [],
   "source": [
    "# Columns name & mass\n",
    "# Rows 0, 1, 2\n",
    "\n",
    "a = pd.DataFrame({\n",
    "    'name': ['A', 'B', 'C'],\n",
    "    'mass': [1, 2, 3],\n",
    "})\n",
    "\n",
    "a"
   ]
  },
  {
   "cell_type": "markdown",
   "metadata": {},
   "source": [
    "We can convert a Pandas DataFrame to a numpy array with `.values`."
   ]
  },
  {
   "cell_type": "code",
   "execution_count": null,
   "metadata": {},
   "outputs": [],
   "source": [
    "a.values"
   ]
  },
  {
   "cell_type": "markdown",
   "metadata": {},
   "source": [
    "However, an array with mixed type won't be that useful for numpy's vectorized numerical operations. Let's select one column and convert it to a 1-D numerical array."
   ]
  },
  {
   "cell_type": "code",
   "execution_count": null,
   "metadata": {},
   "outputs": [],
   "source": [
    "a['mass']"
   ]
  },
  {
   "cell_type": "code",
   "execution_count": null,
   "metadata": {},
   "outputs": [],
   "source": [
    "a['mass'].values"
   ]
  },
  {
   "cell_type": "code",
   "execution_count": null,
   "metadata": {},
   "outputs": [],
   "source": [
    "# One shared column with `a` and one different column from `a`\n",
    "\n",
    "b = pd.DataFrame({\n",
    "    'name': ['A', 'B', 'D'],\n",
    "    'is_agn': [True, False, True]\n",
    "})\n",
    "\n",
    "b"
   ]
  },
  {
   "cell_type": "code",
   "execution_count": null,
   "metadata": {},
   "outputs": [],
   "source": [
    "# Inner merge: intersection\n",
    "inner = pd.merge(a, b, on='name', how='inner')\n",
    "inner"
   ]
  },
  {
   "cell_type": "markdown",
   "metadata": {},
   "source": [
    "#### What happened?\n",
    "We found rows in `a` and `b` that had the same value in column 'x1'. We then returned the values for the other columns from `a` and `b`. This is very useful for when you are cross-matching data sets."
   ]
  },
  {
   "cell_type": "markdown",
   "metadata": {},
   "source": [
    "### Exercise 1\n",
    "\n",
    "Do a merge that preserves all rows from both input dataframes (i.e., a union).\n",
    "\n",
    "Note: this is called an \"outer\" merge. What happened?\n"
   ]
  },
  {
   "cell_type": "code",
   "execution_count": null,
   "metadata": {},
   "outputs": [],
   "source": [
    "# YOUR CODE HERE\n",
    "\n",
    "outer = pd.merge( )"
   ]
  },
  {
   "cell_type": "markdown",
   "metadata": {},
   "source": [
    "### Exercise 2: Saving Our DataFrame and Reading It Back\n",
    "Let's save it as a Comma Separated Values (CSV) file using the DataFrame's `to_csv()` method. Only provide the filename (\"super_important_data.csv\") without any other arguments."
   ]
  },
  {
   "cell_type": "code",
   "execution_count": null,
   "metadata": {},
   "outputs": [],
   "source": [
    "# YOUR CODE HERE\n",
    "\n"
   ]
  },
  {
   "cell_type": "markdown",
   "metadata": {},
   "source": [
    "Now, let's read it in with `pd.read_csv()`."
   ]
  },
  {
   "cell_type": "code",
   "execution_count": null,
   "metadata": {},
   "outputs": [],
   "source": [
    "pd.read_csv('super_important_data.csv')"
   ]
  },
  {
   "cell_type": "markdown",
   "metadata": {},
   "source": [
    "Hmmm...we didn't want the indices as a column.  We have two options and we'll try both.\n",
    "1. When reading the csv file, tell `read_csv` that the first column is indices.\n",
    "2. Don't write the indices to the csv file in the first place and then you can read it back without any additional arguments."
   ]
  },
  {
   "cell_type": "code",
   "execution_count": null,
   "metadata": {},
   "outputs": [],
   "source": [
    "# Try Option 1\n",
    "\n",
    "# YOUR CODE HERE\n",
    "\n"
   ]
  },
  {
   "cell_type": "code",
   "execution_count": null,
   "metadata": {},
   "outputs": [],
   "source": [
    "# Try Option 2\n",
    "\n",
    "# YOUR CODE HERE\n",
    "\n"
   ]
  },
  {
   "cell_type": "markdown",
   "metadata": {},
   "source": [
    "### Exercise 3: Using `read_csv` to read in ASCII files\n",
    "`read_csv()` is a versatile function that can read in data stored in text files.  Often you will have to use its arguments and a little manual data cleaning to read in the data properly, so we'll go through two examples of data files from the literature that require a little bit of massaging to get them into the form we want.\n",
    "\n",
    "#### Example: read in data about starburst galaxies\n",
    "Read in the `starbursts.txt` data from [Andrews & Thompson (2011)](https://arxiv.org/pdf/1011.0955.pdf).  This columns in this file aren't comma separated, so you'll have to tell `read_csv()` what the delimiter should be. It also has a header, so you'll need to figure out how to skip rows.  And you may need to figure out how to get the columns names correct (potentially manually)."
   ]
  },
  {
   "cell_type": "code",
   "execution_count": null,
   "metadata": {},
   "outputs": [],
   "source": [
    "# YOUR CODE HERE\n",
    "sb = pd.read_csv( )\n",
    "\n",
    "######\n",
    "sb"
   ]
  },
  {
   "cell_type": "markdown",
   "metadata": {},
   "source": [
    "We can select a column using the same syntax as accessing a dictionary value by key..."
   ]
  },
  {
   "cell_type": "code",
   "execution_count": null,
   "metadata": {},
   "outputs": [],
   "source": [
    "sb['name']"
   ]
  },
  {
   "cell_type": "markdown",
   "metadata": {},
   "source": [
    "...or using a dot syntax (though this won't work if the column name is also a method/property of a DataFrame, such as `max`)"
   ]
  },
  {
   "cell_type": "code",
   "execution_count": null,
   "metadata": {},
   "outputs": [],
   "source": [
    "sb.luminosity"
   ]
  },
  {
   "cell_type": "markdown",
   "metadata": {},
   "source": [
    "These selections produce a `Series`, basically a 1-D array with labels. Most of your work in Pandas will be using 2-D DataFrames, so we won't say anything more about Series."
   ]
  },
  {
   "cell_type": "markdown",
   "metadata": {},
   "source": [
    "We can also select multiple columns simultaneously and produce a DataFrame using a list of column names."
   ]
  },
  {
   "cell_type": "code",
   "execution_count": null,
   "metadata": {},
   "outputs": [],
   "source": [
    "sb[['name', 'luminosity']]"
   ]
  },
  {
   "cell_type": "markdown",
   "metadata": {},
   "source": [
    "If we want to select a row, then we have two options: `df.loc` and `df.iloc`. Let's copy the `sb` dataframe and set the indices to be the `name` column."
   ]
  },
  {
   "cell_type": "code",
   "execution_count": null,
   "metadata": {},
   "outputs": [],
   "source": [
    "sb2 = sb.copy()\n",
    "sb2.set_index('name', inplace=True)\n",
    "sb2"
   ]
  },
  {
   "cell_type": "markdown",
   "metadata": {},
   "source": [
    "We can select individual rows by label with `.loc`."
   ]
  },
  {
   "cell_type": "code",
   "execution_count": null,
   "metadata": {},
   "outputs": [],
   "source": [
    "sb2.loc['M82']"
   ]
  },
  {
   "cell_type": "markdown",
   "metadata": {},
   "source": [
    "If you want to use the element number, use `iloc`. Let's choose the `0th` row:"
   ]
  },
  {
   "cell_type": "code",
   "execution_count": null,
   "metadata": {},
   "outputs": [],
   "source": [
    "sb2.iloc[0]"
   ]
  },
  {
   "cell_type": "markdown",
   "metadata": {},
   "source": [
    "and the `0th` row and `1th` column:"
   ]
  },
  {
   "cell_type": "code",
   "execution_count": null,
   "metadata": {},
   "outputs": [],
   "source": [
    "sb2.iloc[0, 1]"
   ]
  },
  {
   "cell_type": "markdown",
   "metadata": {},
   "source": [
    "We can select multiple rows and get out a dataframe:"
   ]
  },
  {
   "cell_type": "code",
   "execution_count": null,
   "metadata": {},
   "outputs": [],
   "source": [
    "sb2.iloc[0:2]"
   ]
  },
  {
   "cell_type": "markdown",
   "metadata": {},
   "source": [
    "### Exercise 4\n",
    "Try selecting the first two rows and the \"name\", \"luminosity\", and \"sigma_gas\" values for the `sb` dataframe."
   ]
  },
  {
   "cell_type": "code",
   "execution_count": null,
   "metadata": {},
   "outputs": [],
   "source": [
    "# YOUR CODE HERE\n"
   ]
  },
  {
   "cell_type": "markdown",
   "metadata": {},
   "source": [
    "We can also use masks for Pandas DataFrames."
   ]
  },
  {
   "cell_type": "code",
   "execution_count": null,
   "metadata": {},
   "outputs": [],
   "source": [
    "sb[sb.luminosity > 5e11]"
   ]
  },
  {
   "cell_type": "markdown",
   "metadata": {},
   "source": [
    "Finally we can use `pd.DataFrame`'s `plot` method to quickly look at our data."
   ]
  },
  {
   "cell_type": "code",
   "execution_count": null,
   "metadata": {},
   "outputs": [],
   "source": [
    "sb.plot(x='luminosity', y='radius', kind='scatter')"
   ]
  },
  {
   "cell_type": "markdown",
   "metadata": {},
   "source": [
    "### Exercise 5\n",
    "\n",
    "Let's try to remake a plot from Andrews & Thompson (2011)---or at least a part of it---from our data. First, we're going to need to convert units to centimeters-grams-seconds (cgs). Then we'll apply a few simple formulas.\n",
    "\n",
    "Handy chart of conversions to cgs: http://www.astro.wisc.edu/~dolan/constants.html"
   ]
  },
  {
   "cell_type": "markdown",
   "metadata": {},
   "source": [
    "The midplane pressure is $p_\\mathrm{mid} = 0.5 \\pi G \\Sigma_\\mathrm{gas} \\Sigma_\\mathrm{tot}$"
   ]
  },
  {
   "cell_type": "code",
   "execution_count": null,
   "metadata": {},
   "outputs": [],
   "source": [
    "# calculate the midplane pressure (the restoring force due to gravity)\n",
    "\n",
    "G = 6.67e-8  # gravitational constant in cgs\n",
    "c = 3e10  # speed of light in cgs\n",
    "\n",
    "# YOUR CODE HERE\n",
    "\n",
    "######"
   ]
  },
  {
   "cell_type": "markdown",
   "metadata": {},
   "source": [
    "The radiation pressure is $p_\\mathrm{rad} = (1 + \\tau_\\mathrm{FIR}) * flux / c$, where $flux = luminosity / (4 \\pi r^2)$."
   ]
  },
  {
   "cell_type": "code",
   "execution_count": null,
   "metadata": {},
   "outputs": [],
   "source": [
    "# calculate the radiation pressure\n",
    "\n",
    "tau_FIR = 10  # Far-infrared optical depth\n",
    "\n",
    "\n",
    "# YOUR CODE HERE\n",
    "\n",
    "\n",
    "######"
   ]
  },
  {
   "cell_type": "code",
   "execution_count": null,
   "metadata": {},
   "outputs": [],
   "source": [
    "fig, ax = plt.subplots(figsize=(6, 6))\n",
    "ax.scatter(np.log10(p_mid), np.log10(p_rad))\n",
    "ax.plot([-12, -2], [-12, -2], 'k')\n",
    "ax.set_xlim([-12, -2])\n",
    "ax.set_ylim([-12, -2])\n",
    "ax.text(-8.5, -8, 'Eddington Limit', rotation=45, fontsize=16)\n",
    "ax.set_xlabel(r'log(P$_\\mathrm{midplane}$ [ergs cm$^{-3}$])', fontsize=16)\n",
    "ax.set_ylabel(r'log(P$_\\mathrm{radiation}$ [ergs cm$^{-3}$])', fontsize=16)"
   ]
  },
  {
   "cell_type": "markdown",
   "metadata": {},
   "source": [
    "### Exercise 6\n",
    "\n",
    "Read in data from a paper. In this case we're using Table 1 from David Setton's paper [Setton et al. (2020)](https://ui.adsabs.harvard.edu/abs/2020ApJ...905...79S/abstract).  As typeset in the paper, the table looks like the following."
   ]
  },
  {
   "cell_type": "code",
   "execution_count": null,
   "metadata": {},
   "outputs": [],
   "source": [
    "from IPython.display import Image\n",
    "Image(filename='squiggle_table1.gif') "
   ]
  },
  {
   "cell_type": "markdown",
   "metadata": {},
   "source": [
    "However, in ASCII format, the table looks like this:"
   ]
  },
  {
   "cell_type": "code",
   "execution_count": null,
   "metadata": {},
   "outputs": [],
   "source": [
    "\"\"\"\n",
    "Table 1\n",
    "Properties of the GMOS Observations\n",
    "\n",
    "\n",
    "ID\tName\tR.A.\tDecl.\tz\tStellar\ti\tGMOS\tIntegration^a\tImage^b\n",
    "\t\t\t\t\tMass\t\tProgram\tTime\tQuality\n",
    "\t\t(degrees)\t(degrees)\t\t$\\left(\\mathrm{log}\\tfrac{{M}_{\\star }}{{M}_{\\odot }}\\right)$\t(AB Mag)\t\t(s)\n",
    "SDSS J110932.14-004003.8\tJ1109-0040\t167.384\t-0.6678\t0.593\t11.09\t18.8\tGN-2019A-Q-234\t9720\t20\n",
    "SDSS J023359.33+005238.4\tJ0233+0052\t38.4972\t0.8774\t0.592\t11.15\t18.72\tGN-2017B-Q-37\t7560 (6480)\t20\n",
    "SDSS J091242.76+152305.1\tJ0912+1523\t138.1782\t15.3848\t0.747\t11.25\t18.63\tGN-2016A-FT-6\t9802\t20\n",
    "SDSS J083547.08+312144.5\tJ0835+3121\t128.9462\t31.3624\t0.506\t10.98\t18.11\tGN-2017B-Q-37\t6300\t70\n",
    "SDSS J075344.17+240336.1\tJ0753+2403\t118.4341\t24.0601\t0.565\t11.18\t18.72\tGN-2017B-Q-37\t8640 (5400)\t70\n",
    "SDSS J144845.91+101010.5\tJ1448+1010\t222.1913\t10.1696\t0.646\t11.24\t18.67\tGS-2018A-FT-112\t11880 (8640)\t70\n",
    "Notes.\n",
    "^a Integration time that was considered useful is shown in parentheses if it differs from the total integration time. Useful frames of data are those that do not have visible issues after scattered-light subtraction or significant noise spikes in the Hdelta_A bandpass.\n",
    "^b The Image Quality quoted is the worst-case conditions under which the majority of frames were observed. IQ20 corresponds to FWHM <or= 0.\"5 seeing and IQ70 corresponds to FWHM <or= 0.\"75 seeing at zenith.\n",
    "\"\"\";"
   ]
  },
  {
   "cell_type": "markdown",
   "metadata": {},
   "source": [
    "Try reading in this table.\n",
    "\n",
    "- Hint 1: the columns are tab separated and the special character to indicate tab is `\\t`.\n",
    "- Hint 2: you might need to skip rows at the top and bottom (i.e., footer)\n",
    "- Hint 3: because the column names span multiple rows, it might be easier to just manually pass in the columns names."
   ]
  },
  {
   "cell_type": "code",
   "execution_count": null,
   "metadata": {},
   "outputs": [],
   "source": [
    "# YOUR CODE HERE\n",
    "\n"
   ]
  },
  {
   "cell_type": "markdown",
   "metadata": {},
   "source": [
    "It seems that the parentheses in the \"Integration Time\" column forced it to be strings instead of floats.  Let's adopt the non-parenthetical option for Integration Time. We split the strings on `' ('`, take the first value, and we set those values in the dataframe to be our new values."
   ]
  },
  {
   "cell_type": "code",
   "execution_count": null,
   "metadata": {},
   "outputs": [],
   "source": [
    "df.loc[np.array([1, 4, 5]), 'Integration Time'] = [it.split(' (')[0] for it in df['Integration Time'].iloc[np.array([1, 4, 5])]]"
   ]
  },
  {
   "cell_type": "markdown",
   "metadata": {},
   "source": [
    "The data type of \"Integration Time\" is still `str`, so let's convert that column to `float` using `astype()`."
   ]
  },
  {
   "cell_type": "code",
   "execution_count": null,
   "metadata": {},
   "outputs": [],
   "source": [
    "df['Integration Time'] = df['Integration Time'].astype(float)"
   ]
  },
  {
   "cell_type": "code",
   "execution_count": null,
   "metadata": {},
   "outputs": [],
   "source": [
    "df['Integration Time']"
   ]
  },
  {
   "cell_type": "code",
   "execution_count": null,
   "metadata": {},
   "outputs": [],
   "source": [
    "df"
   ]
  },
  {
   "cell_type": "markdown",
   "metadata": {},
   "source": [
    "### Learn more about Pandas\n",
    "\n",
    "Greg Reda's 3 part Introduction to Pandas:\n",
    "- [Part I: Intro to Pandas Data Structures](http://www.gregreda.com/2013/10/26/intro-to-pandas-data-structures/)\n",
    "- [Part II: Working with Pandas DataFrames](http://www.gregreda.com/2013/10/26/working-with-pandas-dataframes/)\n",
    "- [Part III: Using Pandas on the MovieLens Dataset](http://www.gregreda.com/2013/10/26/using-pandas-on-the-movielens-dataset/)\n",
    "\n",
    "More advanced: I really enjoyed Tom Augspurger's [Modern Pandas](https://tomaugspurger.github.io/modern-1-intro) tutorial series, especially the part about [method chaining](https://tomaugspurger.github.io/method-chaining.html).\n"
   ]
  },
  {
   "cell_type": "markdown",
   "metadata": {},
   "source": [
    "## Exit Survey"
   ]
  },
  {
   "cell_type": "code",
   "execution_count": null,
   "metadata": {},
   "outputs": [],
   "source": []
  }
 ],
 "metadata": {
  "kernelspec": {
   "display_name": "Python 3",
   "language": "python",
   "name": "python3"
  },
  "language_info": {
   "codemirror_mode": {
    "name": "ipython",
    "version": 3
   },
   "file_extension": ".py",
   "mimetype": "text/x-python",
   "name": "python",
   "nbconvert_exporter": "python",
   "pygments_lexer": "ipython3",
   "version": "3.8.5"
  }
 },
 "nbformat": 4,
 "nbformat_minor": 4
}
