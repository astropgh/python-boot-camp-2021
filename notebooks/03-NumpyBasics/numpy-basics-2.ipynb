{
 "cells": [
  {
   "cell_type": "code",
   "execution_count": null,
   "metadata": {},
   "outputs": [],
   "source": [
    "from pathlib import Path\n",
    "\n",
    "import numpy as np\n",
    "import matplotlib.pyplot as plt"
   ]
  },
  {
   "cell_type": "markdown",
   "metadata": {},
   "source": [
    "# Multi Dimensional Arrays"
   ]
  },
  {
   "cell_type": "markdown",
   "metadata": {},
   "source": [
    "As mentioned previously, NumPy can be used to represent arrays of any size and dimension. Though all the examples above have used one-dimensional arrays, all of them will work when we have more than one dimension. For example, a list of lists can be used to initialize a two dimensional array just like a list was used to initialize a one dimensional array. All the array attributes also work similarly."
   ]
  },
  {
   "cell_type": "code",
   "execution_count": null,
   "metadata": {},
   "outputs": [],
   "source": [
    "arr_2d_1 = np.array([[1, 2, 3], [4, 5, 6]])"
   ]
  },
  {
   "cell_type": "code",
   "execution_count": null,
   "metadata": {},
   "outputs": [],
   "source": [
    "print(arr_2d_1)"
   ]
  },
  {
   "cell_type": "code",
   "execution_count": null,
   "metadata": {},
   "outputs": [],
   "source": [
    "arr_2d_1.shape"
   ]
  },
  {
   "cell_type": "code",
   "execution_count": null,
   "metadata": {},
   "outputs": [],
   "source": [
    "arr_2d_1.ndim"
   ]
  },
  {
   "cell_type": "markdown",
   "metadata": {},
   "source": [
    "`arr_2d_1` has a dimension of 2 i.e. it has two axes (`0` and `1`, since everything in Python is counted from 0). The **0th axis has 2** elements while the **1st axis has 3** elements."
   ]
  },
  {
   "cell_type": "markdown",
   "metadata": {},
   "source": [
    "Most of the functions to generate arrays listed above can be used with more than one dimension, for example"
   ]
  },
  {
   "cell_type": "code",
   "execution_count": null,
   "metadata": {},
   "outputs": [],
   "source": [
    "np.zeros((2,3))"
   ]
  },
  {
   "cell_type": "code",
   "execution_count": null,
   "metadata": {},
   "outputs": [],
   "source": [
    "np.random.randn(2,3)"
   ]
  },
  {
   "cell_type": "markdown",
   "metadata": {},
   "source": [
    "Similarly all element wise operations happen similarly on multi-dimensional arrays including binary operations between two arrays."
   ]
  },
  {
   "cell_type": "code",
   "execution_count": null,
   "metadata": {},
   "outputs": [],
   "source": [
    "2*arr_2d_1"
   ]
  },
  {
   "cell_type": "code",
   "execution_count": null,
   "metadata": {},
   "outputs": [],
   "source": [
    "arr_2d_2 = np.array([[7, 8, 9], [10, 11, 12]])"
   ]
  },
  {
   "cell_type": "code",
   "execution_count": null,
   "metadata": {},
   "outputs": [],
   "source": [
    "arr_2d_1 + arr_2d_2"
   ]
  },
  {
   "cell_type": "markdown",
   "metadata": {},
   "source": [
    "### Indexing and slicing in multi-dimensional arrays"
   ]
  },
  {
   "cell_type": "markdown",
   "metadata": {},
   "source": [
    "Indexing and slicing for multidimensional arrays work in exactly the same way as in 1D arrays except the indices/slices for each axes are separeted by a `,`. So, if I want to select the element with index 1 along axis 0 and index 2 along axis 1 of the array `arr_2d_1`"
   ]
  },
  {
   "cell_type": "code",
   "execution_count": null,
   "metadata": {},
   "outputs": [],
   "source": [
    "arr_2d_1[1,2]"
   ]
  },
  {
   "cell_type": "markdown",
   "metadata": {},
   "source": [
    "We can select all the elements along axis 0 and for the index 2 along axis 1 by"
   ]
  },
  {
   "cell_type": "code",
   "execution_count": null,
   "metadata": {},
   "outputs": [],
   "source": [
    "arr_2d_1[:,2].shape"
   ]
  },
  {
   "cell_type": "markdown",
   "metadata": {},
   "source": [
    "Similarly all other slicing operations can be performed on multi-dimensional arrays. We can select all the elements along the 0th axis corresponding to the first index by"
   ]
  },
  {
   "cell_type": "code",
   "execution_count": null,
   "metadata": {},
   "outputs": [],
   "source": [
    "arr_2d_1[1]"
   ]
  },
  {
   "cell_type": "markdown",
   "metadata": {},
   "source": [
    "**NOTE:** The above is equivalent to `arr_2d_1[1,:]`. Python reads script from left to right, if we stop putting indices to the right, it is assumed that all elements are selected."
   ]
  },
  {
   "cell_type": "markdown",
   "metadata": {},
   "source": [
    "A small illustrated summary of numpy indexing and slicing from [scipylectures.org](https://scipy-lectures.org/intro/numpy/array_object.html): "
   ]
  },
  {
   "cell_type": "markdown",
   "metadata": {},
   "source": [
    "<img src=\"data/img/np_indexing.png\" height=200px width=600px>"
   ]
  },
  {
   "cell_type": "markdown",
   "metadata": {},
   "source": [
    "### Reading and writing simple arrays"
   ]
  },
  {
   "cell_type": "markdown",
   "metadata": {},
   "source": [
    "The most efficient way to save array like objects as binary files is the `.npy` file format. To save an array we do `np.save(\"file_name\", array)`. So to save `arr_2d_1`:"
   ]
  },
  {
   "cell_type": "code",
   "execution_count": null,
   "metadata": {},
   "outputs": [],
   "source": [
    "np.save(\"my_array.npy\", arr_2d_1)"
   ]
  },
  {
   "cell_type": "markdown",
   "metadata": {},
   "source": [
    "To read `.npy` files we do `np.load(\"file_path\")`"
   ]
  },
  {
   "cell_type": "code",
   "execution_count": null,
   "metadata": {},
   "outputs": [],
   "source": [
    "np.load(\"my_array.npy\")"
   ]
  },
  {
   "cell_type": "markdown",
   "metadata": {},
   "source": [
    "**NOTE:** `.npy` files are by far the best way to save data of a reasonable size. As data size becomes larger and organization more complex, it is preferable to store data in formats like HDF5. Astronomers have a certain affection towards `.fits` files. We will deal with them in a subsequent tutorial.     \n",
    "NumPy can also read text files using `np.loadtxt`. Text files are generally used to store catalogs and tabular data. Better methods than NumPy exist to read and work with such data types. They will be discussed in a subsequent tutorial."
   ]
  },
  {
   "cell_type": "markdown",
   "metadata": {},
   "source": [
    "## Pretty pictures of galaxies"
   ]
  },
  {
   "cell_type": "markdown",
   "metadata": {},
   "source": [
    "We will now look at images of galaxies taken by the [Sloan Digital Sky Survey (SDSS)](https://www.sdss.org/). A monochromatic image is basically a 2D array where the brightness of each pixel corresponds to the value of the array element. The supplied data file has images of 15 different galaxies each 64 $\\times$ 64 pixels in size. The images were taken in 5 bands of wavelengths (viz. $u$, $g$, $r$, $i$, $z$) ranging from near ultra-violet to mid infrared. We first open the image, read it into an array and check its shape."
   ]
  },
  {
   "cell_type": "code",
   "execution_count": null,
   "metadata": {},
   "outputs": [],
   "source": [
    "data_path = Path(\"./data/sdss.npy\")\n",
    "imgs = np.load(data_path) "
   ]
  },
  {
   "cell_type": "markdown",
   "metadata": {},
   "source": [
    "lets find the shape of the array"
   ]
  },
  {
   "cell_type": "code",
   "execution_count": null,
   "metadata": {},
   "outputs": [],
   "source": [
    "imgs. # COMPLETE THIS LINE OF CODE"
   ]
  },
  {
   "cell_type": "markdown",
   "metadata": {},
   "source": [
    "Looking at the shape try to figure out what each axes of this array corresponds to. We will select some of the galaxies from this set and plot their images. First lets select the second galaxy in the given array (Recall that indexing starts from `0`)"
   ]
  },
  {
   "cell_type": "code",
   "execution_count": null,
   "metadata": {},
   "outputs": [],
   "source": [
    "img_1 =  # COMPLETE THIS LINE OF CODE\n",
    "img_1.shape"
   ]
  },
  {
   "cell_type": "markdown",
   "metadata": {},
   "source": [
    "We will now plot the image of the selected galaxy by looping over the wavelength bands. Since the pixels span a huge dynamic range we will scale the pixels by performing the element wise hyperbolic tangent peration (`np.tanh()`)"
   ]
  },
  {
   "cell_type": "code",
   "execution_count": null,
   "metadata": {},
   "outputs": [],
   "source": [
    "# COMPLETE THESE THREE LINES OF CODE\n",
    "for :                # loop over all the wavelength bands\n",
    "    selected_filter =       #Select an image in a wavelength band\n",
    "    scaled_img =   #scale the image using element wise hyperbolic tan\n",
    "    \n",
    "    plt.figure()\n",
    "    plt.imshow(scaled_img, cmap=\"gray\", origin=\"lower\")"
   ]
  },
  {
   "cell_type": "markdown",
   "metadata": {},
   "source": [
    "Feel free to select other galaxies and plot their images.  \n",
    "As you can see the galaxy mostly occupies the central region of the picture. So we will crop the images to select only the central 32$\\times$32 array elements for each wavelength band and plot them."
   ]
  },
  {
   "cell_type": "code",
   "execution_count": null,
   "metadata": {},
   "outputs": [],
   "source": [
    "# COMPLETE THESE FOUR LINES OF CODE\n",
    "for : # loop over all the wavelength bands\n",
    "    selected_filter =            #Select an image in a wavelength band\n",
    "    cropped_img =    #Select the central 32x32 elements\n",
    "    scaled_img =    #scale the image using element wise hyperbolic tan\n",
    "    \n",
    "    print(scaled_img.shape)\n",
    "    plt.figure()\n",
    "    plt.imshow(scaled_img, cmap=\"gray\", origin=\"lower\")"
   ]
  },
  {
   "cell_type": "markdown",
   "metadata": {},
   "source": [
    "### Reductions: Numerical operations which return a smaller array"
   ]
  },
  {
   "cell_type": "markdown",
   "metadata": {},
   "source": [
    "Some numpy functions can take an array as input and return a smaller array as output. An example of such a function would be `np.sum`. If applied on an array, it returns the sum of all elements in the array."
   ]
  },
  {
   "cell_type": "code",
   "execution_count": null,
   "metadata": {},
   "outputs": [],
   "source": [
    "np.sum(arr_2d_1)"
   ]
  },
  {
   "cell_type": "markdown",
   "metadata": {},
   "source": [
    "Such numpy functions also have an argument called `axis`. Alternatively we can specify the axis along which the function will operate. The resulting array will have a dimension less than the original array. The `axis` mentioned in the argument will be the one which is reduced."
   ]
  },
  {
   "cell_type": "code",
   "execution_count": null,
   "metadata": {},
   "outputs": [],
   "source": [
    "arr_2d_1"
   ]
  },
  {
   "cell_type": "code",
   "execution_count": null,
   "metadata": {},
   "outputs": [],
   "source": [
    "np.sum(arr_2d_1, axis=0)"
   ]
  },
  {
   "cell_type": "code",
   "execution_count": null,
   "metadata": {},
   "outputs": [],
   "source": [
    "np.sum(arr_2d_1, axis=1)"
   ]
  },
  {
   "cell_type": "markdown",
   "metadata": {},
   "source": [
    "An illustrative representation of `np.sum` across various axes from [scipylectures.org](https://scipy-lectures.org/intro/numpy/operations.html#basic-reductions)"
   ]
  },
  {
   "cell_type": "markdown",
   "metadata": {},
   "source": [
    "<img src=\"data/img/reductions.png\" height=200px width=200px>"
   ]
  },
  {
   "cell_type": "markdown",
   "metadata": {},
   "source": [
    "Most common statistical functions are implemented in NumPy and can be used in a similar way. We will use the function `np.mean()` to calculate the average values of the image pixels across all the wavelength ranges and plot the average image for all the given galaxies in a similar way as before."
   ]
  },
  {
   "cell_type": "code",
   "execution_count": null,
   "metadata": {},
   "outputs": [],
   "source": [
    "# COMPLETE THESE THREE LINES OF CODE\n",
    "for :                       # loop over all the galaxies in the dataset\n",
    "    selected_galaxy =             # Select a galaxy from the data set\n",
    "    mean_img = np.mean()                          # Calculate the mean value of all the pixels across observed wavelengths\n",
    "    scaled_img =                  #scale the image using element wise hyperbolic tan\n",
    "    \n",
    "    \n",
    "    plt.figure()\n",
    "    plt.imshow(scaled_img, cmap=\"gray\")"
   ]
  },
  {
   "cell_type": "markdown",
   "metadata": {},
   "source": [
    "Want to see more (and prettier) pictures of galaxies?  \n",
    "Check out [legacysurvey.org](http://legacysurvey.org/viewer)!"
   ]
  }
 ],
 "metadata": {
  "kernelspec": {
   "display_name": "Python 3",
   "language": "python",
   "name": "python3"
  },
  "language_info": {
   "codemirror_mode": {
    "name": "ipython",
    "version": 3
   },
   "file_extension": ".py",
   "mimetype": "text/x-python",
   "name": "python",
   "nbconvert_exporter": "python",
   "pygments_lexer": "ipython3",
   "version": "3.8.6"
  }
 },
 "nbformat": 4,
 "nbformat_minor": 4
}
