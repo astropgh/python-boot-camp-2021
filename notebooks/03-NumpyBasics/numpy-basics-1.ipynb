{
 "cells": [
  {
   "cell_type": "markdown",
   "metadata": {},
   "source": [
    "# Why NumPy and NumPy arrays?\n",
    "- A way to represent multi-dimensional arrays (i.e. vectors, matrices, images, tables, tensors, etc.) in Python\n",
    "- Fast operations on such multi-dimensional arrays (a.k.a vectorized operations)   \n",
    "\n",
    "   \n",
    "     \n",
    "In this tutorial, we will learn how to use NumPy by going through various examples from Physics and Astronomy. The focus is on learning by doing. It is not possible to cover everything in a tutorial, feel free to refer to the [numpy documentation](https://numpy.org/doc/stable/) and Google things. \n",
    "To start, lets import NumPy. The recommended way is:"
   ]
  },
  {
   "cell_type": "code",
   "execution_count": null,
   "metadata": {},
   "outputs": [],
   "source": [
    "import numpy as np"
   ]
  },
  {
   "cell_type": "markdown",
   "metadata": {},
   "source": [
    "## Representing positions of particles using arrays\n",
    "### Creating an array"
   ]
  },
  {
   "cell_type": "markdown",
   "metadata": {},
   "source": [
    "The position of a particle in 3D is represented by a collection of three numbers. We can create a NumPy array to store it's coordinates ($x,y,z$)."
   ]
  },
  {
   "cell_type": "code",
   "execution_count": null,
   "metadata": {},
   "outputs": [],
   "source": [
    "pos_1 = np.array([1,2,3])"
   ]
  },
  {
   "cell_type": "markdown",
   "metadata": {},
   "source": [
    "We can print out the array and check its type to see what has been stored."
   ]
  },
  {
   "cell_type": "code",
   "execution_count": null,
   "metadata": {},
   "outputs": [],
   "source": [
    "print(pos_1)"
   ]
  },
  {
   "cell_type": "code",
   "execution_count": null,
   "metadata": {},
   "outputs": [],
   "source": [
    "type(pos_1)"
   ]
  },
  {
   "cell_type": "markdown",
   "metadata": {},
   "source": [
    "Now store the position of another particle which is located at coordinates $(4,5,6)$"
   ]
  },
  {
   "cell_type": "code",
   "execution_count": null,
   "metadata": {},
   "outputs": [],
   "source": [
    "pos_2 =              # COMPLETE THIS LINE OF CODE"
   ]
  },
  {
   "cell_type": "markdown",
   "metadata": {},
   "source": [
    "NumPy arrays being Python objects have some properties (attributes) associated with them. The `ndim` and `shape` attributes can be used to check the number of dimensions and the shape of the array."
   ]
  },
  {
   "cell_type": "code",
   "execution_count": null,
   "metadata": {},
   "outputs": [],
   "source": [
    "pos_1.ndim"
   ]
  },
  {
   "cell_type": "code",
   "execution_count": null,
   "metadata": {},
   "outputs": [],
   "source": [
    "pos_1.shape"
   ]
  },
  {
   "cell_type": "markdown",
   "metadata": {},
   "source": [
    "The above shape indicates that there's only one dimension to the array and there are 3 elements. In NumPy terminology the space of numbers required to denote the index of an element is called an `axis` and the total number of such axes is called the `dimension`.\n",
    "\n",
    "An object which has 1 dimension is like a vector while an object with 2 dimensions is like a matrix. This idea is generalized to get an `n-dimensional` array, i.e. the location of an element in that array needs to be denoted by specifying `n` numbers (i.e. axes). Check out another array attribute, `dtype`, which tells the type of data the array holds."
   ]
  },
  {
   "cell_type": "code",
   "execution_count": null,
   "metadata": {},
   "outputs": [],
   "source": [
    "pos_1.         # COMPLETE THIS LINE OF CODE"
   ]
  },
  {
   "cell_type": "markdown",
   "metadata": {},
   "source": [
    "Similar to lists the `len()` function can be used to check out the length of 1-D arrays."
   ]
  },
  {
   "cell_type": "code",
   "execution_count": null,
   "metadata": {},
   "outputs": [],
   "source": [
    "len()                                      # COMPLETE THIS LINE OF CODE"
   ]
  },
  {
   "cell_type": "markdown",
   "metadata": {},
   "source": [
    "### Indexing: Accessing elements of an array\n",
    "Indexing a one dimensional array follows the same syntax as that of lists (i.e. the first element has an index of `0` while the last element has an index of `len(array)-1` and proceeds in steps of 1). If you want to count from the end of an array the last element has an index of `-1`, the second last `-2`, and so on.\n",
    "So, for example if we want to access the $x$ coordinate of the first particle:"
   ]
  },
  {
   "cell_type": "code",
   "execution_count": null,
   "metadata": {},
   "outputs": [],
   "source": [
    "pos_1[0]"
   ]
  },
  {
   "cell_type": "markdown",
   "metadata": {},
   "source": [
    "Calculate the sum of the $y$ and $z$ coordinates of the second particle (i.e. `pos_2`)"
   ]
  },
  {
   "cell_type": "code",
   "execution_count": null,
   "metadata": {},
   "outputs": [],
   "source": [
    "pos_2[] + pos_2[] # COMPLETE THIS LINE OF CODE"
   ]
  },
  {
   "cell_type": "markdown",
   "metadata": {},
   "source": [
    "### Automatically generating arrays\n",
    "Sometimes it is useful to automatically generate an array of a given length. Some common ways to do these are the functions: `np.ones`, `np.zeros`, `np.arange`, `np.linspace` and `np.logspace`. `np.zeros` and `np.ones` create arrays of a given shape whose all elements are `0` or `1` respectively."
   ]
  },
  {
   "cell_type": "code",
   "execution_count": null,
   "metadata": {},
   "outputs": [],
   "source": [
    "np.zeros(5)"
   ]
  },
  {
   "cell_type": "markdown",
   "metadata": {},
   "source": [
    "`np.arange` returns evenly spaced values within a given interval. Let's check the documentation for `np.arange` by typing `?` after the function name:  \n",
    "(Also when using jupyter the documentation can also be accessed by pressing `Shift`+`tab` after typing the function name, i.e. `np.arange` -> `Shift`+`tab`)"
   ]
  },
  {
   "cell_type": "code",
   "execution_count": null,
   "metadata": {},
   "outputs": [],
   "source": [
    "np.arange"
   ]
  },
  {
   "cell_type": "markdown",
   "metadata": {},
   "source": [
    "So, to generate an array whose elements are between 0 to 100 and increase in steps of 10, we do:"
   ]
  },
  {
   "cell_type": "code",
   "execution_count": null,
   "metadata": {},
   "outputs": [],
   "source": [
    "np.arange(0,100,10)"
   ]
  },
  {
   "cell_type": "markdown",
   "metadata": {},
   "source": [
    "Now look up the documentation for `np.linspace` and generate the same array we generated above using `np.linspace`"
   ]
  },
  {
   "cell_type": "code",
   "execution_count": null,
   "metadata": {},
   "outputs": [],
   "source": [
    "                         # COMPLETE THIS LINE OF CODE"
   ]
  },
  {
   "cell_type": "code",
   "execution_count": null,
   "metadata": {},
   "outputs": [],
   "source": [
    "np.linspace(0, 90, 10).dtype"
   ]
  },
  {
   "cell_type": "markdown",
   "metadata": {},
   "source": [
    "**Random Arrays:** We can also generate arrays whose elements are random numbers following a specific distribution. The `np.random` module contains a number of functions that can be used to this effect. The following will create a one dimensional array with 5 samples drawn from a standard normal distribution. More such functions can be found in the [documentation](https://numpy.org/doc/stable/reference/random/legacy.html#legacy)."
   ]
  },
  {
   "cell_type": "code",
   "execution_count": null,
   "metadata": {},
   "outputs": [],
   "source": [
    "np.random.randn(5)"
   ]
  },
  {
   "cell_type": "markdown",
   "metadata": {},
   "source": [
    "### Slicing: Extracting chunks of an array"
   ]
  },
  {
   "cell_type": "markdown",
   "metadata": {},
   "source": [
    "We can extract smaller arrays from a longer array, the syntax is `array[start_index:stop_index]`. An important note is that the returned array will **include** the element corresponding to the `start_index` and **exclude** the element corresponding to the `stop_index`, i.e. it will end at `stop_index-1`. For example, lets generate an array with 100 elements"
   ]
  },
  {
   "cell_type": "code",
   "execution_count": null,
   "metadata": {},
   "outputs": [],
   "source": [
    "big_array = np.arange(100)"
   ]
  },
  {
   "cell_type": "markdown",
   "metadata": {},
   "source": [
    "**NOTE:** In addition to the usage of `np.arange` shown previously, if you put only an integer as the argument of `np.arange`, it will return an array of integers starting from `0` and of length equal to the argument.  \n",
    "\n",
    "To get a smaller slice of `big_array` beginning at the index `20` and ending at the index `50-1` we do:"
   ]
  },
  {
   "cell_type": "code",
   "execution_count": null,
   "metadata": {},
   "outputs": [],
   "source": [
    "big_array[20:50]"
   ]
  },
  {
   "cell_type": "code",
   "execution_count": null,
   "metadata": {},
   "outputs": [],
   "source": [
    "big_array[20:50:2]"
   ]
  },
  {
   "cell_type": "markdown",
   "metadata": {},
   "source": [
    "The syntax is `array[start_index:stop_index:step]` can be used to get a slice of an array where the elements are selected in units of `step`. If no `step` is provided, it is assumed to be 1 and hence all elements are returned in the given range.    \n",
    "\n",
    "So, if we want to extract the sequence `[65, 68, 71, 74, 77, 80, 83]` from `big_array`, what should we do? "
   ]
  },
  {
   "cell_type": "code",
   "execution_count": null,
   "metadata": {},
   "outputs": [],
   "source": [
    "big_array[]    # COMPLETE THIS LINE OF CODE"
   ]
  },
  {
   "cell_type": "markdown",
   "metadata": {},
   "source": [
    "**NOTE:** Doing `big_array[:]` is equivalent to selecting the whole array. The elements of an array can be reversed by selecting the whole array and having a step of `-1`"
   ]
  },
  {
   "cell_type": "code",
   "execution_count": null,
   "metadata": {},
   "outputs": [],
   "source": [
    "big_array[::-1]"
   ]
  },
  {
   "cell_type": "markdown",
   "metadata": {},
   "source": [
    "## Numerical operations on arrays  \n",
    "### Element wise binary operations"
   ]
  },
  {
   "cell_type": "markdown",
   "metadata": {},
   "source": [
    "All Python binary operations i.e. `+`,`-`,`*`,`/`and`**` work on arrays too! All these operations are done element wise on NumPy arrays. For example if I want to scale the position of particle 1 by 3 times"
   ]
  },
  {
   "cell_type": "code",
   "execution_count": null,
   "metadata": {},
   "outputs": [],
   "source": [
    "3*pos_1"
   ]
  },
  {
   "cell_type": "markdown",
   "metadata": {},
   "source": [
    "This multiplies each element of the array by 3. The same goes for the other operations. Now square each coordinate of particle 2."
   ]
  },
  {
   "cell_type": "code",
   "execution_count": null,
   "metadata": {},
   "outputs": [],
   "source": [
    "pos_2                                    # COMPLETE THIS LINE OF CODE"
   ]
  },
  {
   "cell_type": "markdown",
   "metadata": {},
   "source": [
    "Similarly if two arrays are of **same shape** then all these binary operations are performed between elements in the same index for both the arrays. For example to add the position vectors of the two particles we do:"
   ]
  },
  {
   "cell_type": "code",
   "execution_count": null,
   "metadata": {},
   "outputs": [],
   "source": [
    "pos_1 + pos_2"
   ]
  },
  {
   "cell_type": "markdown",
   "metadata": {},
   "source": [
    "What happens if we exponentiate the elements of the first array to the power of the elemnts of the second array:"
   ]
  },
  {
   "cell_type": "code",
   "execution_count": null,
   "metadata": {},
   "outputs": [],
   "source": [
    "pos_1  pos_2 # Complete this line of code"
   ]
  },
  {
   "cell_type": "markdown",
   "metadata": {},
   "source": [
    "What happens if we try to do such operations between arrays of different shapes?  \n",
    "A short answer is it may or may not give you an error!! We will look into this in the next part of the tutorial."
   ]
  },
  {
   "cell_type": "markdown",
   "metadata": {},
   "source": [
    "### Other mathematical functions"
   ]
  },
  {
   "cell_type": "markdown",
   "metadata": {},
   "source": [
    "Numpy has a host of built in mathematical functions which also operate element wise. These functions are generally faster than using loops to calculate the value of the function on each element. Let's see this in action by calculating the $\\sin$ of an array using traditional python and also NumPy. We will measure the runtime using the `%%timeit` magic command."
   ]
  },
  {
   "cell_type": "code",
   "execution_count": null,
   "metadata": {},
   "outputs": [],
   "source": [
    "from math import sin"
   ]
  },
  {
   "cell_type": "code",
   "execution_count": null,
   "metadata": {},
   "outputs": [],
   "source": [
    "%%timeit\n",
    "\n",
    "vals = [i for i in range(10000)] # Create a list of 10,000 integers starting with 0\n",
    "sin_vals = [sin(i) for i in vals] # Use a for loop to calculate the sin of each integers"
   ]
  },
  {
   "cell_type": "markdown",
   "metadata": {},
   "source": [
    "**NOTE:** The above way of using `for` loop to generate a list is called list comprehension. So this line of code\n",
    "```python\n",
    "numbers = [2*i for i in range(100)]\n",
    "```\n",
    "is equivalent to doing\n",
    "```python\n",
    "numbers = []\n",
    "for i in range(100):\n",
    "    numbers.append(2*i)\n",
    "```\n",
    "Both achieve the same thing, the former is the more \"pythonic\" way."
   ]
  },
  {
   "cell_type": "code",
   "execution_count": null,
   "metadata": {},
   "outputs": [],
   "source": [
    "%%timeit\n",
    "\n",
    "vals = np.arange(10000)\n",
    "sin_vals = np.sin(vals)"
   ]
  },
  {
   "cell_type": "markdown",
   "metadata": {},
   "source": [
    "As seen above we can use the NumPy `sin` function which takes an array as its input. Almost all common mathematical functions are implemented as native numpy functions. A complete list can be found [here](https://numpy.org/doc/stable/reference/routines.math.html?highlight=mathematical%20functions).\n",
    "   \n",
    "We can see a huge improvement in runtime when using NumPy over barbones Python. This is because NumPy functions (aka `ufuncs`) are implemented in other compiled languages like C or Fortran and made available to be used in Python. Whenever possible it is recommended to use NumPy's inbuilt data structures and functions. These implementations are also called **vectorized** functions. Vectorization is a theme we will visit many times in this tutorial.    \n",
    "\n",
    "\n",
    "**NOTE:** Though they might look very similar Python `lists` are completely different objects than Numpy arrays. `list` is a native Python data type while NumPy arrays are not. Attributes and methods of lists like `.append()` do not work on NumPy arrays and vice versa. Moreover the elements of a list can each be of a different data type, for example\n",
    "```python\n",
    "example_list = [2.0, 1, \"A sentence\"]\n",
    "```\n",
    "is a list which has a `float`, an `int` and a `str` as its element. This is not possible in a NumPy array. All the elements need to be of the same datatype."
   ]
  },
  {
   "cell_type": "markdown",
   "metadata": {},
   "source": [
    "### Array Methods\n",
    "Like all other data structures in Python, NumPy arrays are objects. These objects have methods associated with them.   \n",
    "Recall that methods are just like functions but are associated with an object. Whereas functions take an object as an input and return another object as the output, methods act on the object they are associated with and may alter the object itself. Here's an example, the `array.sum()` **method** returns the sum of all the elements of the array. The `np.sum()` **function** takes an array as its input and returns the sum of its elements as outputs. Both do the same thing but are accessed in different ways. A complete lists of methods and attributes associated with any NumPy array can be found [here](https://docs.scipy.org/doc/numpy/reference/generated/numpy.ndarray.html)"
   ]
  },
  {
   "cell_type": "code",
   "execution_count": null,
   "metadata": {},
   "outputs": [],
   "source": [
    "pos_1.sum()"
   ]
  },
  {
   "cell_type": "code",
   "execution_count": null,
   "metadata": {},
   "outputs": [],
   "source": [
    "np.sum(pos_1)"
   ]
  },
  {
   "cell_type": "markdown",
   "metadata": {},
   "source": [
    "## Plotting the galaxy luminosity function"
   ]
  },
  {
   "cell_type": "markdown",
   "metadata": {},
   "source": [
    "The number density of galaxies having a given luminosity $(\\Phi(L))$ is found to follow the functional form\n",
    "$$ \\Phi(L)=\\left( \\dfrac{\\Phi^*}{L^*} \\right) \\left( \\dfrac{L}{L^*} \\right)^{\\alpha}10^{\\left(-\\dfrac{L}{L^*}\\right)}$$\n",
    "\n",
    "Assuming the normalization constant $\\left( \\dfrac{\\Phi^*}{L^*} \\right)$ to be unity and $\\alpha = -1.5, -1.0 \\text{ and} -0.5$,  plot $\\log(\\Phi(L))$ versus $\\dfrac{L}{L^*}$. Follow these steps:"
   ]
  },
  {
   "cell_type": "markdown",
   "metadata": {},
   "source": [
    "Take a look at the documentation for `np.logspace`. Generate the $x$ axis (i.e.$\\dfrac{L}{L^*}$ ) as a logarithmically spaced grid of 50 data points between $10^{-2}$ and $10$."
   ]
  },
  {
   "cell_type": "code",
   "execution_count": null,
   "metadata": {},
   "outputs": [],
   "source": [
    "l =   # COMPLETE THIS LINE OF CODE"
   ]
  },
  {
   "cell_type": "markdown",
   "metadata": {},
   "source": [
    "Use NumPy functions and binary operations on the above array to generate the y axis (i.e. $\\log(\\Phi(L))$). The function to take the logarithm with a base 10 in numpy is `np.log10` whereas the function to take the natural logarithm is `np.log`.   \n",
    "\n",
    "Since we are doing the same operation thrice for different input parameters, it is really helpful to define a function. "
   ]
  },
  {
   "cell_type": "code",
   "execution_count": null,
   "metadata": {},
   "outputs": [],
   "source": [
    "def log_phi(l, alpha):\n",
    "    \"\"\"\n",
    "    Function to calculate the log of luminosity function\n",
    "    \n",
    "    Arguments:\n",
    "    l (array): Values of L/L^star\n",
    "    alpha (float): Faint end slope parameter\n",
    "    \n",
    "    Returns:\n",
    "    array: The log of the luminosity function\n",
    "    \"\"\"\n",
    "    \n",
    "    # COMPLETE THESE THREE LINES OF CODE\n",
    "    phi = \n",
    "    log_phi = \n",
    "    \n",
    "    return "
   ]
  },
  {
   "cell_type": "markdown",
   "metadata": {},
   "source": [
    "**NOTE:** The chunk of commented text following the function definition is called a docstring. It is a good practice to always add a doctring whenever you define a function and intend to reuse it.\n",
    "\n",
    "The following is an example of a very basic docstring. \n",
    "\n",
    "```python\n",
    "def a_generic_function(input1, input2):\n",
    "    \"\"\"\n",
    "    This is what the funtion does\n",
    "    \n",
    "    Arguments:\n",
    "    input1 (data_type): Meaning of the input\n",
    "    \n",
    "    \n",
    "    Returns\n",
    "    data_type: Meaning of the return value\n",
    "    \n",
    "    \"\"\"\n",
    "    \n",
    "    return something\n",
    "```\n",
    "\n",
    "There are multiple formatting schemes for doctsrings. The one followed by the Scientific Python community can be found [here](https://docs.scipy.org/doc/numpy/docs/howto_document.html).  \n",
    "\n",
    "This docstring can be accessed using the usual methods of accessing the documentation for any function imported from a library. Access the docstring for the function we defined in the previous cell:"
   ]
  },
  {
   "cell_type": "code",
   "execution_count": null,
   "metadata": {},
   "outputs": [],
   "source": [
    "log_phi                       # COMPLETE THIS LINE OF CODE"
   ]
  },
  {
   "cell_type": "code",
   "execution_count": null,
   "metadata": {},
   "outputs": [],
   "source": [
    "import matplotlib.pyplot as plt\n",
    "plt.figure(figsize=(10,6))\n",
    "\n",
    "\n",
    "# COMPLETE THESE THREE LINES OF CODE\n",
    "\n",
    "plt.plot(,,label=r\"$\\alpha=-1.5$\") # for alpha = -1.5\n",
    "plt.plot(,label=r\"$\\alpha=-1.0$\") # for alpha = -1.0\n",
    "plt.plot(,label=r\"$\\alpha=-0.5$\") # for alpha = -0.5\n",
    "\n",
    "\n",
    "\n",
    "plt.xlabel(r\"$\\dfrac{L}{L^{\\star}}$\", fontsize=20) # Print the x label in latex\n",
    "plt.ylabel(r\"$\\log(\\Phi(L))$\", fontsize=20) # Print the x label in latex\n",
    "plt.xscale(\"log\") # Set the spacing in the x axis logarithmically\n",
    "plt.legend()"
   ]
  }
 ],
 "metadata": {
  "kernelspec": {
   "display_name": "Python 3",
   "language": "python",
   "name": "python3"
  },
  "language_info": {
   "codemirror_mode": {
    "name": "ipython",
    "version": 3
   },
   "file_extension": ".py",
   "mimetype": "text/x-python",
   "name": "python",
   "nbconvert_exporter": "python",
   "pygments_lexer": "ipython3",
   "version": "3.8.6"
  }
 },
 "nbformat": 4,
 "nbformat_minor": 4
}
