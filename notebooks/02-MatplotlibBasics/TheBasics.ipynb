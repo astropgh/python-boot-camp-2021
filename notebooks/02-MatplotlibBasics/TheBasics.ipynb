{
 "cells": [
  {
   "cell_type": "markdown",
   "id": "d5b7d2c4-69f8-49ff-91e7-1572e0590ae7",
   "metadata": {},
   "source": [
    "###### (original notebook by Christine Mazzola)\n",
    "# Matplotlib: Plotting using Python\n",
    "\n",
    "The [matplotlib library](https://matplotlib.org/index.html) is one of the most useful and used tools within python. With its consistent and relatively simple framework, you can create complex publication-worthy figures with ease*. This session will cover the basics of plotting and formatting in the scripted framework, while Matplotlib II will introduce the object-oriented framework and a variety of plots. Various links are documented below, but I'll also include them here for ease:\n",
    "1. the latest [matplotlib documentation](https://matplotlib.org/api/_as_gen/matplotlib.pyplot.html#module-matplotlib.pyplot)\n",
    "2. a page with [examples](https://matplotlib.org/gallery/index.html) that include source code for each plot\n",
    "3. a page with additional [tutorials](https://matplotlib.org/tutorials/index.html) for the studious matplotlib student  \n",
    "\n",
    "###### \\*some Googling for StackOverflow discussions may be necessary..."
   ]
  },
  {
   "cell_type": "markdown",
   "id": "a5a472e0-23cf-4edf-a53d-0626622c3316",
   "metadata": {},
   "source": [
    ".  \n",
    ".  \n",
    ".  \n",
    "## With that, let's get started!"
   ]
  },
  {
   "cell_type": "code",
   "execution_count": null,
   "id": "095c2c58-d084-4f47-a1f8-f9d9a55445fb",
   "metadata": {},
   "outputs": [],
   "source": [
    "# first, let's import the package\n"
   ]
  },
  {
   "cell_type": "markdown",
   "id": "29889203-9427-4286-b79e-3fb9325c1517",
   "metadata": {},
   "source": [
    "## The `plt.plot()` command\n",
    "Now that we've loaded the package, let's make the most basic plot: a list of numbers."
   ]
  },
  {
   "cell_type": "code",
   "execution_count": null,
   "id": "7092d27a-fcaf-4c81-92e8-653dc22ead4b",
   "metadata": {},
   "outputs": [],
   "source": [
    "plt.plot([   ])"
   ]
  },
  {
   "cell_type": "markdown",
   "id": "851d5269-c92a-4018-8037-e0aa280843cb",
   "metadata": {},
   "source": [
    "Neat!  So when we supply a list of numbers, it looks like `matplotlib` assumed that we were listing the y-axis points.  Because of this, `matplotlib` made its own x-axis points, just the numbers [0,1,2,...] up to however many numbers we listed in the `plt.plot()` command!\n",
    "\n",
    "You can actually supply your own x-axis points, too -- let's do that now!"
   ]
  },
  {
   "cell_type": "code",
   "execution_count": null,
   "id": "ab3eb8cd-354e-4c79-a1ce-3f39b6fdae31",
   "metadata": {},
   "outputs": [],
   "source": [
    "# make sure your x list has the same number of values as the y list\n",
    "x = [   ]\n",
    "y = [   ] # same numbers as before for y\n",
    "\n",
    "# now let's plot this, using both x and y\n",
    "plt.plot(   ) # x goes first!"
   ]
  },
  {
   "cell_type": "markdown",
   "id": "64d55c92-ec8c-40a9-8a92-97469001b923",
   "metadata": {},
   "source": [
    "## Plot Formatting\n",
    "Now, let's add a few extra features to our plot. Here, we'll \n",
    "1. make two calls to ```plt.plot()```\n",
    "2. add a vertical line using ```plt.axvline()```\n",
    "3. add a horizontal line with ```plt.axhline()```\n",
    "4. label each line using the ```label=\"your-name-here\"``` keyword\n",
    "5. add a legend based on those plot labels with ```plt.legend()```"
   ]
  },
  {
   "cell_type": "code",
   "execution_count": null,
   "id": "f9c5605e-ae71-4eb0-b55b-1eb99d43395c",
   "metadata": {},
   "outputs": [],
   "source": [
    "# previous x & y values\n",
    "x = [     ]\n",
    "y = [     ] \n",
    "\n",
    "# new set of x & y values\n",
    "x2 = [     ]\n",
    "y2 = [     ]\n",
    "\n",
    "# now let's plot this AND add labels for each line\n",
    "plt.plot(x, y)\n",
    "plt.plot(x2, y2)\n",
    "\n",
    "# adding a vertical line using plt.axvline\n",
    "\n",
    "\n",
    "# adding a horizontal line using plt.axhline\n",
    "\n",
    "\n",
    "# telling matplotlib to show the legend\n",
    "\n"
   ]
  },
  {
   "cell_type": "markdown",
   "id": "976a9851-edce-4c7a-9901-37b90ab1a490",
   "metadata": {},
   "source": [
    "Ah, so it's a little challenging to tell the different lines apart, even with the legend!\n",
    "\n",
    "**Thankfully, there are many keywords you can use to customize your plots.**\n",
    "The default `matplotlib` colors are decent, but for the publication-worthy plots you'll be making, we want to have as much control as possible. We'll step through some of the many customizations below:\n",
    "\n",
    "\n",
    "### Markers and Line Styles\n",
    "First, we'll look at the keyword arguments (```**kwargs```) that we can provide to make our lines look unique. We'll just look at a small selection that are available.\n",
    "1. ```color```: color of the line, can be an HTML color name ('red', 'darkred', 'black'), a hex string ('#008000'), RGB/RGBA tuple ((0,1,0,1)), grayscale intensities as a string ('0.5'), and several other settings I won't detail here\n",
    "2.  ```linestyle or ls```: style of the line that is plotted; can be 'None' or a variety of styles, like '-' for solid, '--' dashed, '-.' dashed dot, ':' dotted; default is '-', so you have to specify 'None' if you just want markers for points\n",
    "3.  ```linewidth or lw```: thickness of the line\n",
    "4.  ```alpha```: transparency of the line, with 1.0 => 100% => completely solid and so on\n",
    "5.  ```marker```: point style for markers; a few examples include 'o': circle; '.': point; 's': square; '*': star; 'v'/'^'/'<'/'>': triangle up/down/left/right\n",
    "6.  ```markersize or ms```: size of the markers\n",
    "7.  ```markeredgecolor or mec```: color of the marker edge; defaults to whatever the ```color``` kwarg is set to, but can be any valid color as described above\n",
    "8.  ```markeredgewidth or mew```: thickness of the marker edge\n",
    "9.  ```zorder```: order in which the points are displayed wherever they overlap, with lower numbers being displayed underneath higher zordered plot calls\n",
    "\n",
    "**Note**: If you provide a value to ```marker``` and ```ls``` is anything other than 'None', _including not specified_, then the marker will be plotted on top of a line of the same color as the marker. You can easily check this in the code below."
   ]
  },
  {
   "cell_type": "code",
   "execution_count": null,
   "id": "a5033bc2-f876-4ff3-9887-2d44ef989e20",
   "metadata": {},
   "outputs": [],
   "source": [
    "# plotting our lines with lots of fancy keywords\n",
    "plt.plot(x, y, \n",
    "         color = 'blue',\n",
    "         ls = '--',\n",
    "         lw = 4,\n",
    "         alpha=0.5,\n",
    "         label='Line 1',\n",
    "         zorder = 2)\n",
    "\n",
    "plt.plot(x2, y2, \n",
    "         color = 'gold',\n",
    "         ls = 'None',      # Required for the line portion to go away\n",
    "         marker = 'o',\n",
    "         ms = 9,\n",
    "         mec = 'black',\n",
    "         mew = 2,\n",
    "         label='Line 2',\n",
    "         zorder = 1)\n",
    "\n",
    "# legend\n",
    "plt.legend()"
   ]
  },
  {
   "cell_type": "markdown",
   "id": "c8f68126-fa9b-4679-ada7-cca7e7816431",
   "metadata": {},
   "source": [
    "### Legends\n",
    "We can also customize the legend quite a bit! Here's a list of some of the most useful keywords for the ```plt.legend()``` command, in my experience (there are others, check out the docs for more details).\n",
    "1. ```fontsize```: size of the text in the legend; can be numeric (12, 25, etc.) and will be the absolute font size in points, or a string ('small', 'medium', 'xx-large') where the point size is scaled based on the _default_ font size\n",
    "2. ```ncol```: number of columns in the legend\n",
    "3. ```numpoints```: number of points to show per entry for plot calls with ```marker = ...```\n",
    "4. ```frameon```: whether to include a frame around the legend\n",
    "5. ```fancybox```: whether to round the edges of the legend frame; ignorerd if ```frameon=False```\n",
    "6. ```edgecolor```: color of the legend frame; as before, any valid color\n",
    "7. ```loc```: location of the legend; can be a string or an integer that refer to a pre-set position ('upper right' and 5 indicate the same location, see the docs for the 11 options) or a pair of floats (where (0.3, 0.5) means the bottom left corner is 30% to the right of the origin, 50% up)"
   ]
  },
  {
   "cell_type": "code",
   "execution_count": null,
   "id": "813b7164-f43b-41e7-9ec6-7c1179ad733a",
   "metadata": {},
   "outputs": [],
   "source": [
    "# plotting our lines with lots of fancy keywords\n",
    "# but this time, we can put them on one line for each plt.plot()\n",
    "plt.plot(x, y, color = 'blue', ls = '--', lw = 4, alpha=0.5, label='Line 1', zorder = 2)\n",
    "\n",
    "plt.plot(x2, y2, color = 'gold', ls = 'None', marker = 'o', ms = 9, mec = 'black', \n",
    "         mew = 2, label='Line 2', zorder = 1)\n",
    "\n",
    "# legend, with keywords spaced out so we can see them clearly\n",
    "plt.legend(fontsize='large',\n",
    "           ncol=2,\n",
    "           fancybox=False,\n",
    "           frameon=True,\n",
    "           edgecolor='black')"
   ]
  },
  {
   "cell_type": "markdown",
   "id": "d5a91c18-3f03-4c02-85f2-80f72fcbabb7",
   "metadata": {},
   "source": [
    "### Formatting Axes\n",
    "So far, we've focused on formatting the actual lines, but clear, informative axes make the plot actually useful. There are a number of ways we can alter the axes shown above. Each of the commands listed below can be applied to the y-axes by changing 'x' to 'y'.\n",
    "1. ```plt.xlabel()```: string that labels the x-axis; can include LaTex math with a raw string, i.e., r'$math stuff$'; text attributes like color and fontsize apply, and you can select the rotation and placement of the label\n",
    "2. ```plt.xlim()```: the minimum and maximum limits of the x-axis; you can supply both without keywords, or you can include just one: ```plt.xlim(xmax=5)``` if you want to leave ```xmin``` unchanged, etc. \n",
    "3. ```plt.xticks()```: allows for choosing placement and labels for major ticks; the first list or array of values determines the placement, and the second array determines the labels on those ticks; text attributes like color, fontsize, rotation, etc. also apply"
   ]
  },
  {
   "cell_type": "code",
   "execution_count": null,
   "id": "93f5af03-35dd-49c3-a097-234d46061ffb",
   "metadata": {},
   "outputs": [],
   "source": [
    "# plotting our lines with lots of fancy keywords\n",
    "plt.plot(x, y, color = 'blue', ls = '--', lw = 4, alpha=0.5, label='Line 1', zorder = 2)\n",
    "plt.plot(x2, y2, color = 'gold', ls = 'None', marker = 'o', ms = 9, mec = 'black',\n",
    "         mew = 2, label='Line 2', zorder = 1)\n",
    "\n",
    "# legend with our fancy keywords\n",
    "plt.legend(fontsize='large', ncol=2, numpoints=3, fancybox=False, \n",
    "           frameon=True, edgecolor='black', loc=9)\n",
    "\n",
    "# Axes labels\n",
    "plt.xlabel(      , fontsize=10)\n",
    "plt.ylabel(      , fontsize=16)\n",
    "\n",
    "# Axes limits\n",
    "plt.xlim(     )\n",
    "plt.ylim(     )\n",
    "\n",
    "# Tick locators and labels\n",
    "plt.xticks([-1, 1, 3, 5, 7, 9, 11], fontsize=14)\n",
    "plt.yticks([0, 2.5, 5, 7.5, 10], ['bad', 'meh', 'okay', 'good', 'best'], color='purple')"
   ]
  },
  {
   "cell_type": "markdown",
   "id": "782d595f-efc0-4c6b-ae6b-b2de0471503e",
   "metadata": {},
   "source": [
    "### Some Final Touches\n",
    "There are still many other useful features we could add to our plot. We'll highlight just four here, but don't worry. If you can imagine it, you can probably find a way to make it in matplotlib!\n",
    "1. ```plt.title()```: set the title for your plot; follows most text properties, but to change the font size and weight, you have to supply it in a dictionary format before any other keywords (see example below)\n",
    "2. ```plt.text()```: add text to a plot; the first two arguments are the absolute x and y positions for the text, and the third argument is the actual text to display; LaTex math can be rendered with a raw string (r'$math$'); most other text properties will also apply\n",
    "3. ```plt.grid()```: True or False for whether to include a grid; keywords include: ```which=``` determines the set of ticks that are gridded and can be 'major' or 'minor'*; ```axis=``` determines which axis gets gridded lines, and can be 'x', 'y', or 'both'\n",
    "4. ```ax = plt.gca()``` => ```ax.set_facecolor()```: changes the color in the plot's main face to any valid color; this looks a little different than most of the others, because it's verging on the object-oriented approach (next session!) but it's easy enough to show here\n",
    "\n",
    "***Note**: Since minor ticks are not currently enabled on our plot, setting ```plt.grid(which='minor')``` will not show any gridlines, because the minor tick marks don't exist."
   ]
  },
  {
   "cell_type": "code",
   "execution_count": null,
   "id": "095fee29-21a5-4239-82c7-3b7e04e1295b",
   "metadata": {},
   "outputs": [],
   "source": [
    "# plotting our lines with lots of fancy keywords\n",
    "plt.plot(x, y, color = 'blue', ls = '--', lw = 4, alpha=0.5, label='Line 1', zorder = 2)\n",
    "plt.plot(x2, y2, color = 'gold', ls = 'None', marker = 'o', ms = 9, mec = 'black',\n",
    "         mew = 2, label='Line 2', zorder = 1)\n",
    "\n",
    "# legend with our fancy keywords\n",
    "plt.legend(fontsize='large', ncol=2, numpoints=3, fancybox=False, \n",
    "           frameon=True, edgecolor='black', loc=4)\n",
    "\n",
    "# Axes labels\n",
    "plt.xlabel('Time  [s]', fontsize=10)\n",
    "plt.ylabel(r'$\\Omega_{m}$', fontsize=16)\n",
    "\n",
    "# Axes limits\n",
    "plt.xlim(-2, 12)\n",
    "plt.ylim(0, 10)\n",
    "\n",
    "# Tick locators and labels\n",
    "plt.xticks([-1, 1, 3, 5, 7, 9, 11], fontsize=14)\n",
    "plt.yticks([0, 2.5, 5, 7.5, 10], ['bad', 'meh', 'okay', 'good', 'best'], color='purple')\n",
    "\n",
    "# Title\n",
    "\n",
    "\n",
    "\n",
    "# Text\n",
    "plt.text(-1, 9, r'$v\\approx H_{0}d$ (completely unrelated)', fontsize=14, color='brown')\n",
    "\n",
    "# Grid\n",
    "plt.grid(True, which='major', axis='y', ls=':', lw=2, color='orange')"
   ]
  },
  {
   "cell_type": "markdown",
   "id": "4ae4ebbe-b555-4226-9c17-e53b4a810118",
   "metadata": {},
   "source": [
    "### Changing the color of the plot's background\n",
    "You can make the background color different!  Let's play with that real fast:"
   ]
  },
  {
   "cell_type": "code",
   "execution_count": null,
   "id": "e99626f5-e7ac-4327-b548-6bcca5922adc",
   "metadata": {},
   "outputs": [],
   "source": [
    "# plotting our lines with lots of fancy keywords\n",
    "plt.plot(x, y, color = 'blue', ls = '--', lw = 4, alpha=0.5, label='Line 1', zorder = 2)\n",
    "plt.plot(x2, y2, color = 'gold', ls = 'None', marker = 'o', ms = 9, mec = 'black',\n",
    "         mew = 2, label='Line 2', zorder = 1)\n",
    "\n",
    "# legend with our fancy keywords\n",
    "plt.legend(fontsize='large', ncol=2, numpoints=3, fancybox=False, \n",
    "           frameon=True, edgecolor='black', loc=4)\n",
    "\n",
    "# Axes labels\n",
    "plt.xlabel('Time  [s]', fontsize=10)\n",
    "plt.ylabel(r'$\\Omega_{m}$', fontsize=16)\n",
    "\n",
    "# Axes limits\n",
    "plt.xlim(-2, 12)\n",
    "plt.ylim(0, 10)\n",
    "\n",
    "# Tick locators and labels\n",
    "plt.xticks([-1, 1, 3, 5, 7, 9, 11], fontsize=14)\n",
    "plt.yticks([0, 2.5, 5, 7.5, 10], ['bad', 'meh', 'okay', 'good', 'best'], color='purple')\n",
    "\n",
    "# Title\n",
    "plt.title('Look how far our plot has come!', {'fontsize':10, 'fontweight':'bold'}, loc='right', color='red')\n",
    "\n",
    "# Text\n",
    "plt.text(-1, 9, r'$v\\approx H_{0}d$ (completely unrelated)', fontsize=14, color='brown')\n",
    "\n",
    "# Grid\n",
    "plt.grid(True, which='major', axis='y', ls=':', lw=2, color='orange')\n",
    "\n",
    "# COLOR OF BACKGROUND\n",
    "ax = plt.gca()\n",
    "ax.set_facecolor(     )"
   ]
  },
  {
   "cell_type": "markdown",
   "id": "ee47a859-5f39-4426-940c-7c4ee6bb4b37",
   "metadata": {},
   "source": [
    "## Saving Plots\n",
    "The plot's no good to your paper if it only exists in your Jupyter notebook. Saving is important, and thankfully it's pretty easy. The function is ```plt.savefig()```. The first arguemnt should be the filename as a string, including the file path, if it's not in the same directory as the notebook: 'your/file/path/goes/here/filename.extension', where the extension can be png, pdf, ps, and eps, amongst others.\n",
    "\n",
    "There's a variety of other keywords for ```plt.savefig()```, some of which are more useful than others. For plots like ours where some parts extend beyond where they're expected (thanks to the unusual axes labels, in our case), including ```bbox_inches='tight'``` can keep it from cutting off parts of the plot when saving. The keyword ```facecolor``` changes whether there's color behind the portion where the axes labels are. Adding ```facecolor='one'``` can make for an interesting effect on posters, where you might have a colored background behind the plot. The central portion will be white (or whatever you set the facecolor to be) and will stand out prominantly, while the axes labels will still be visible but there won't be a jarring white box around your plot, as you can see in the image below.\n",
    "\n",
    "![facecolor='white' vs. facecolor='None'](facecolors.png)"
   ]
  },
  {
   "cell_type": "code",
   "execution_count": null,
   "id": "50948db4-ceb2-4f3e-9cf7-c8c29994f163",
   "metadata": {},
   "outputs": [],
   "source": [
    "# plotting our lines with lots of fancy keywords\n",
    "plt.plot(x, y, color = 'blue', ls = '--', lw = 4, alpha=0.5, label='Line 1', zorder = 2)\n",
    "plt.plot(x2, y2, color = 'gold', ls = 'None', marker = 'o', ms = 9, mec = 'black',\n",
    "         mew = 2, label='Line 2', zorder = 1)\n",
    "\n",
    "# legend with our fancy keywords\n",
    "plt.legend(fontsize='large', ncol=2, numpoints=3, fancybox=False, \n",
    "           frameon=True, edgecolor='black', loc=4)\n",
    "\n",
    "# Axes labels\n",
    "plt.xlabel('Time  [s]', fontsize=10)\n",
    "plt.ylabel(r'$\\Omega_{m}$', fontsize=16)\n",
    "\n",
    "# Axes limits\n",
    "plt.xlim(-2, 12)\n",
    "plt.ylim(0, 10)\n",
    "\n",
    "# Tick locators and labels\n",
    "plt.xticks([-1, 1, 3, 5, 7, 9, 11], fontsize=14)\n",
    "plt.yticks([0, 2.5, 5, 7.5, 10], ['bad', 'meh', 'okay', 'good', 'best'], color='purple')\n",
    "\n",
    "# Title\n",
    "plt.title('Look how far our plot has come!', {'fontsize':10, 'fontweight':'bold'}, loc='right', color='red')\n",
    "\n",
    "# Text\n",
    "plt.text(-1, 9, r'$v\\approx H_{0}d$ (completely unrelated)', fontsize=14, color='brown')\n",
    "\n",
    "# Grid\n",
    "plt.grid(True, which='major', axis='y', ls=':', lw=2, color='orange')\n",
    "\n",
    "# COLOR OF BACKGROUND\n",
    "ax = plt.gca()\n",
    "ax.set_facecolor('green')\n",
    "\n",
    "plt.savefig(      )"
   ]
  },
  {
   "cell_type": "markdown",
   "id": "e21f9583-e593-409c-8db8-70f1d5873ce5",
   "metadata": {},
   "source": [
    "### Have fun formatting your plots!\n",
    "\n",
    "For publications, you will likely spend a lot of time fine-tuning and tweaking your plots.  **This is very normal.**\n",
    "\n",
    "While the functions we explored above are some of the most common ones -- you actually have so many options on ways to modify and personalize your plots to show exactly what you want.  Visit [this gallery page](https://matplotlib.org/gallery/index.html) on the the `matplotlib` website to see the variety of plots that you could make (and those only scratch the surface of the options you have!).\n"
   ]
  },
  {
   "cell_type": "markdown",
   "id": "8a14910f-9bb9-4b37-82f7-8c91f27dc00f",
   "metadata": {},
   "source": [
    "# Practice Problems\n",
    "--------------"
   ]
  },
  {
   "cell_type": "markdown",
   "id": "f25dde47-b9bd-4d12-9fae-8d94e37a9221",
   "metadata": {},
   "source": [
    "## Exercise 1\n",
    "The main code for our plot up above is copied below. Change the `plt.plot()` keywords for both datasets until you have:\n",
    "\n",
    "* different colors than before\n",
    "* different linestyles for both\n",
    "* different markerstyles for one or both\n",
    "* different alphas and zorders that make sense together\n",
    "\n",
    "Check out the [docs](https://matplotlib.org/api/_as_gen/matplotlib.pyplot.plot.html#matplotlib.pyplot.plot) for ```plt.plot``` to read more about the keywords discussed earlier."
   ]
  },
  {
   "cell_type": "code",
   "execution_count": null,
   "id": "f70f9724-604e-46c3-95d8-c43b639fbe49",
   "metadata": {},
   "outputs": [],
   "source": [
    "# play with changing the keywords!\n",
    "plt.plot(x, y, color = 'blue', ls = '--', lw = 4, alpha=0.5, zorder = 2)\n",
    "plt.plot(x2, y2, color = 'gold', ls = 'None', marker = 'o', ms = 9, \n",
    "         mec = 'black', mew = 2, zorder = 1)"
   ]
  },
  {
   "cell_type": "code",
   "execution_count": null,
   "id": "92268661-af3f-49d4-a79b-b6668e81637c",
   "metadata": {},
   "outputs": [],
   "source": []
  },
  {
   "cell_type": "markdown",
   "id": "693f65d7-d845-4083-b416-b6cd2bbe5308",
   "metadata": {},
   "source": [
    "### Exercise 2\n",
    "\n",
    "Here's the full plot that we created above.  I want the following changes:\n",
    "\n",
    "1. Increase the fontsize of both the x-axis and y-axis labels by 2\n",
    "2. Change the x-axis limits to xmin=0 and xmax=10\n",
    "3. Make the facecolor grey\n",
    "4. Change the grid color to black and the grid linestyle to dashed\n",
    "5. "
   ]
  },
  {
   "cell_type": "code",
   "execution_count": null,
   "id": "4d2b78aa-c39d-4cd2-adc2-db37a8c8c602",
   "metadata": {},
   "outputs": [],
   "source": [
    "# plotting our lines with lots of fancy keywords\n",
    "plt.plot(x, y, color = 'blue', ls = '--', lw = 4, alpha=0.5, label='Line 1', zorder = 2)\n",
    "plt.plot(x2, y2, color = 'gold', ls = 'None', marker = 'o', ms = 9, mec = 'black',\n",
    "         mew = 2, label='Line 2', zorder = 1)\n",
    "\n",
    "# legend with our fancy keywords\n",
    "plt.legend(fontsize='large', ncol=2, numpoints=3, fancybox=False, \n",
    "           frameon=True, edgecolor='black', loc=4)\n",
    "\n",
    "# Axes labels\n",
    "plt.xlabel('Time  [s]', fontsize=10)\n",
    "plt.ylabel(r'$\\Omega_{m}$', fontsize=16)\n",
    "\n",
    "# Axes limits\n",
    "plt.xlim(-2, 12)\n",
    "plt.ylim(0, 10)\n",
    "\n",
    "# Tick locators and labels\n",
    "plt.xticks([-1, 1, 3, 5, 7, 9, 11], fontsize=14)\n",
    "plt.yticks([0, 2.5, 5, 7.5, 10], ['bad', 'meh', 'okay', 'good', 'best'], color='purple')\n",
    "\n",
    "# Title\n",
    "plt.title('Look how far our plot has come!', {'fontsize':10, 'fontweight':'bold'}, loc='right', color='red')\n",
    "\n",
    "# Text\n",
    "plt.text(-1, 9, r'$v\\approx H_{0}d$ (completely unrelated)', fontsize=14, color='brown')\n",
    "\n",
    "# Grid\n",
    "plt.grid(True, which='major', axis='y', ls=':', lw=2, color='orange')\n",
    "\n",
    "# COLOR OF BACKGROUND\n",
    "ax = plt.gca()\n",
    "ax.set_facecolor('green')"
   ]
  },
  {
   "cell_type": "code",
   "execution_count": null,
   "id": "c01b7aa2-ad7c-4348-ae5a-c902afdbcabc",
   "metadata": {},
   "outputs": [],
   "source": []
  },
  {
   "cell_type": "markdown",
   "id": "fb5d03ca-362b-4710-9ff2-1315e4057f40",
   "metadata": {},
   "source": [
    "## Exercise 3\n",
    "Color is quite important for clarity and aesthetics. Change the two calls below to both be lines--i.e., there should be no ```marker``` keywords, and ```ls``` should not be set to 'None'.\n",
    "\n",
    "1. Find a good color combination for your two lines, and then find a bad combination, whether it's eye-watering bad or just difficult to tell apart.\n",
    "2. Check out this [website](https://colorbrewer2.org/#type=sequential&scheme=Blues&n=3). Play with the number of colors in the plot and see how the different shades are distributed. If you see color combos or just a specific color you like, it lists the hex representation for each shade on the left hand side.  (You can also reference this [website](https://htmlcolorcodes.com), which I really like)\n",
    "3. Complex plots often make use of a variety of colors to distinguish lines, but that can often alter their effectiveness for color-blind audiences. This [website](https://www.color-blindness.com/coblis-color-blindness-simulator/) shows you what an image looks like to those with different kinds of color-blindness. You can look at default image or upload your own. If you have time now or later, I suggest uploading your plot (must be .png) and see how your color choices hold up."
   ]
  },
  {
   "cell_type": "code",
   "execution_count": null,
   "id": "4c45533c-55fb-4419-825b-c66c671c6aaa",
   "metadata": {},
   "outputs": [],
   "source": [
    "# * Alter the keywords below until they're both lines, then change the colors *\n",
    "\n",
    "# play with changing the keywords!\n",
    "plt.plot(x, y, color = 'blue', ls = '--', lw = 4, alpha=0.5, zorder = 2)\n",
    "plt.plot(x2, y2, color = 'gold', ls = 'None', marker = 'o', ms = 9, \n",
    "         mec = 'black', mew = 2, zorder = 1)"
   ]
  },
  {
   "cell_type": "code",
   "execution_count": null,
   "id": "744252a8-2ba4-4f6e-919a-1f8ee82eaef8",
   "metadata": {},
   "outputs": [],
   "source": []
  },
  {
   "cell_type": "markdown",
   "id": "887ed370-bbef-44a3-bf82-afd3b7f69706",
   "metadata": {},
   "source": [
    "## Exercise 4\n",
    "Add at least 4 more sets of lines to your plot; they should be a mix of horizontal, vertical, diagonal, and scatter points. Few scientific plots show just two sets of data, and they often include one or more horiziontal/vertical lines to indicate limits or interesting regions.\n",
    "\n",
    "1. Use only two colors for your 6+ sets of lines. What keywords can you use to make the lines distinguisable? Toy with the other keywords until you have a plot that is still readable.\n",
    "2. Once you accomplish that, copy the code into a new cell and this time, use only 2 linestyles! What colors and markers can you use to make the sets of data distinguishable? Keep it mind exercise 3 when selecting colors.\n",
    "3. Include at least 3 of your lines in the legend, the more the merrier. Check out the [documentation](https://matplotlib.org/api/_as_gen/matplotlib.pyplot.legend.html#matplotlib.pyplot.legend) and play with the legend settings. You don't want it covering up data, but it should still be readable and in a place that both draws the eye and doesn't distract from the overall plot. This is hard to describe, but you'll know it when you see it--when you don't have to search for the legend, but it doesn't dominate what you see in the plot, either."
   ]
  },
  {
   "cell_type": "code",
   "execution_count": null,
   "id": "9166a06f-b867-433c-b19c-2f03e818aef3",
   "metadata": {},
   "outputs": [],
   "source": [
    "# * Alter the keywords below until they're both lines, then change the colors *\n",
    "\n",
    "# play with changing the keywords!\n",
    "plt.plot(x, y, color = 'blue', ls = '--', lw = 4, alpha=0.5, zorder = 2)\n",
    "plt.plot(x2, y2, color = 'gold', ls = 'None', marker = 'o', ms = 9, \n",
    "         mec = 'black', mew = 2, zorder = 1)\n",
    "\n",
    "\n",
    "# define your new data here!\n",
    "x3 = \n",
    "y3 = \n",
    "# and so on....\n",
    "\n",
    "\n",
    "# plot the new data!\n",
    "plt.plot(     )\n",
    "# and so on...\n",
    "\n",
    "\n",
    "# legend with our fancy keywords\n",
    "plt.legend(fontsize='large', ncol=2, numpoints=3, fancybox=False, \n",
    "           frameon=True, edgecolor='black', loc=4)"
   ]
  },
  {
   "cell_type": "code",
   "execution_count": null,
   "id": "ef1469ee-456b-48c9-b531-38e6c2ebbd0b",
   "metadata": {},
   "outputs": [],
   "source": []
  },
  {
   "cell_type": "markdown",
   "id": "5f1c23db-805f-4329-abd6-fece19258d77",
   "metadata": {},
   "source": [
    "### Exercise 5\n",
    "\n",
    "Okay, now take the original code and any new data you want and make a final plot, that we'll save.  Keep in mind all of the discussion that we've had and keep altering the code for the plot until you're happy with it!\n",
    "\n",
    "Then save the plot."
   ]
  },
  {
   "cell_type": "code",
   "execution_count": null,
   "id": "c48a46d2-762a-4186-9302-cf7fe2f6304f",
   "metadata": {},
   "outputs": [],
   "source": [
    "# plotting our lines with lots of fancy keywords\n",
    "plt.plot(x, y, color = 'blue', ls = '--', lw = 4, alpha=0.5, label='Line 1', zorder = 2)\n",
    "plt.plot(x2, y2, color = 'gold', ls = 'None', marker = 'o', ms = 9, mec = 'black',\n",
    "         mew = 2, label='Line 2', zorder = 1)\n",
    "\n",
    "# legend with our fancy keywords\n",
    "plt.legend(fontsize='large', ncol=2, numpoints=3, fancybox=False, \n",
    "           frameon=True, edgecolor='black', loc=4)\n",
    "\n",
    "# Axes labels\n",
    "plt.xlabel('Time  [s]', fontsize=10)\n",
    "plt.ylabel(r'$\\Omega_{m}$', fontsize=16)\n",
    "\n",
    "# Axes limits\n",
    "plt.xlim(-2, 12)\n",
    "plt.ylim(0, 10)\n",
    "\n",
    "# Tick locators and labels\n",
    "plt.xticks([-1, 1, 3, 5, 7, 9, 11], fontsize=14)\n",
    "plt.yticks([0, 2.5, 5, 7.5, 10], ['bad', 'meh', 'okay', 'good', 'best'], color='purple')\n",
    "\n",
    "# Title\n",
    "plt.title('Look how far our plot has come!', {'fontsize':10, 'fontweight':'bold'}, loc='right', color='red')\n",
    "\n",
    "# Text\n",
    "plt.text(-1, 9, r'$v\\approx H_{0}d$ (completely unrelated)', fontsize=14, color='brown')\n",
    "\n",
    "# Grid\n",
    "plt.grid(True, which='major', axis='y', ls=':', lw=2, color='orange')\n",
    "\n",
    "# COLOR OF BACKGROUND\n",
    "ax = plt.gca()\n",
    "ax.set_facecolor('green')\n",
    "\n",
    "plt.savefig('myfigure.png', bbox_inches='tight')"
   ]
  },
  {
   "cell_type": "code",
   "execution_count": null,
   "id": "8c646d5f-6dae-48d4-a680-64cbbd28c196",
   "metadata": {},
   "outputs": [],
   "source": []
  }
 ],
 "metadata": {
  "kernelspec": {
   "display_name": "Python 3",
   "language": "python",
   "name": "python3"
  },
  "language_info": {
   "codemirror_mode": {
    "name": "ipython",
    "version": 3
   },
   "file_extension": ".py",
   "mimetype": "text/x-python",
   "name": "python",
   "nbconvert_exporter": "python",
   "pygments_lexer": "ipython3",
   "version": "3.7.7"
  }
 },
 "nbformat": 4,
 "nbformat_minor": 5
}
