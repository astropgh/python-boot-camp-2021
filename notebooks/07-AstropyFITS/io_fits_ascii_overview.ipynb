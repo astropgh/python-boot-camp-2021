{
 "cells": [
  {
   "cell_type": "markdown",
   "metadata": {},
   "source": [
    "# I/O: FITS and ASCII\n",
    "\n",
    "\n",
    "### In this section we will:\n",
    "- Learn how to use FITS files\n",
    "    - Open a FITS file\n",
    "    - Examine its header\n",
    "    - Image data\n",
    "    - Table data\n",
    "    - Visualizing with `matplotlib`\n",
    "- Learn how to use ASCII files\n",
    "    - Open an ASCII file\n",
    "    - Visualizing with `matplotlib`\n",
    "    \n",
    "#### For more information, see the Astropy documentation on [FITS](http://docs.astropy.org/en/stable/io/fits/) and [ASCII](http://docs.astropy.org/en/stable/io/ascii/index.html)\n",
    "---\n"
   ]
  },
  {
   "cell_type": "markdown",
   "metadata": {},
   "source": [
    "# Working with FITS files"
   ]
  },
  {
   "cell_type": "code",
   "execution_count": null,
   "metadata": {},
   "outputs": [],
   "source": [
    "from astropy.io import fits"
   ]
  },
  {
   "cell_type": "markdown",
   "metadata": {},
   "source": [
    "The *open()* function in [astropy.io.fits](http://docs.astropy.org/en/stable/io/fits/index.html#) works with regular and compressed files.\n",
    "\n",
    "Open a FITS file and look at the contents:"
   ]
  },
  {
   "cell_type": "code",
   "execution_count": null,
   "metadata": {},
   "outputs": [],
   "source": [
    "f = fits.open('j94f05bgq_flt.fits.gz')\n",
    "f.info()\n",
    "f.close()"
   ]
  },
  {
   "cell_type": "markdown",
   "metadata": {},
   "source": [
    "There is also a shortcut to look inside a FITS file before fully opening it:"
   ]
  },
  {
   "cell_type": "code",
   "execution_count": null,
   "metadata": {},
   "outputs": [],
   "source": [
    "fits.info('j94f05bgq_flt.fits.gz')"
   ]
  },
  {
   "cell_type": "code",
   "execution_count": null,
   "metadata": {},
   "outputs": [],
   "source": [
    "type(f)"
   ]
  },
  {
   "cell_type": "markdown",
   "metadata": {},
   "source": [
    "FITS file objects, `HDUList`s,  are like lists. Individual HDUs are indexed like lists:"
   ]
  },
  {
   "cell_type": "code",
   "execution_count": null,
   "metadata": {},
   "outputs": [],
   "source": [
    "f[1]"
   ]
  },
  {
   "cell_type": "markdown",
   "metadata": {},
   "source": [
    "or using a (EXTNAME, EXTVER) tuple."
   ]
  },
  {
   "cell_type": "code",
   "execution_count": null,
   "metadata": {},
   "outputs": [],
   "source": [
    "f[(\"SCI\", 1)]"
   ]
  },
  {
   "cell_type": "markdown",
   "metadata": {},
   "source": [
    "## Working with headers"
   ]
  },
  {
   "cell_type": "markdown",
   "metadata": {},
   "source": [
    "Headers are similar to python dictionaries.\n",
    "Look at a header, modify an existing keyword and add a new card."
   ]
  },
  {
   "cell_type": "code",
   "execution_count": null,
   "metadata": {},
   "outputs": [],
   "source": [
    "with fits.open('j94f05bgq_flt.fits.gz', mode='update') as f:\n",
    "    print(\"crpix1: \", f[1].header['crpix1'])\n",
    "    f[1].header['crpix1'] = 12  # Reassign the keyword\n",
    "    print(\"Updated crpix1 :\", f[1].header['crpix1'])"
   ]
  },
  {
   "cell_type": "markdown",
   "metadata": {},
   "source": [
    "Opening a FITS file using the Python *with* statement\n",
    "ensures that the file is closed without explicitely doing so."
   ]
  },
  {
   "cell_type": "markdown",
   "metadata": {},
   "source": [
    "There are several ways to add a new card.\n",
    "\n",
    "Note: Attempting to access a non-existing keyword raises a *KeyError*."
   ]
  },
  {
   "cell_type": "code",
   "execution_count": null,
   "metadata": {},
   "outputs": [],
   "source": [
    "f[1].header['observer'] = \"Edwin Hubble\"\n",
    "    \n",
    "# Assigning a tuple to a keyword splits\n",
    "# the tuple into a keyword value and comment.\n",
    "    \n",
    "f[1].header['NOBS'] = (2, \"Number of observing nights\")\n",
    "print(\"observer:\", f[1].header['observer'])\n",
    "print(f[1].header.comments['NOBS'], f[1].header['NOBS'])"
   ]
  },
  {
   "cell_type": "markdown",
   "metadata": {},
   "source": [
    "To delete a keyword/card use the python *del* operator.\n",
    "\n",
    "Again a *KeyError* is raised if the keyword is not in the header."
   ]
  },
  {
   "cell_type": "code",
   "execution_count": null,
   "metadata": {},
   "outputs": [],
   "source": [
    "del f[1].header['NOBS']\n",
    "del f[1].header['observer']"
   ]
  },
  {
   "cell_type": "markdown",
   "metadata": {},
   "source": [
    "Comment and history cards are added as regular keywords. In this case a new card is always created."
   ]
  },
  {
   "cell_type": "code",
   "execution_count": null,
   "metadata": {},
   "outputs": [],
   "source": [
    "with fits.open('j94f05bgq_flt.fits.gz', mode='update') as f:\n",
    "    f[1].header[\"history\"] = \"New history card.\"\n",
    "    f[1].header[\"comment\"] = \"This is a 47 Tuc observation with HST\"\n",
    "    f[1].header[\"comment\"] = \"I'd like to observe it with JWST.\"\n",
    "    print(f[1].header['comment'])"
   ]
  },
  {
   "cell_type": "code",
   "execution_count": null,
   "metadata": {},
   "outputs": [],
   "source": [
    "f[1].header['comment']"
   ]
  },
  {
   "cell_type": "markdown",
   "metadata": {},
   "source": [
    "## Working with image data"
   ]
  },
  {
   "cell_type": "code",
   "execution_count": null,
   "metadata": {},
   "outputs": [],
   "source": [
    "f = fits.open('pix.fits.gz')\n",
    "f.info()"
   ]
  },
  {
   "cell_type": "markdown",
   "metadata": {},
   "source": [
    "An image is a numpy array saved as the data part of an HDU."
   ]
  },
  {
   "cell_type": "code",
   "execution_count": null,
   "metadata": {},
   "outputs": [],
   "source": [
    "scidata = f[0].data\n",
    "print(scidata.shape)\n",
    "print(scidata.dtype)"
   ]
  },
  {
   "cell_type": "markdown",
   "metadata": {},
   "source": [
    "*scidata* is a pointer to the data array of the HDU and if it changes, the data in the HDU changes as well."
   ]
  },
  {
   "cell_type": "code",
   "execution_count": null,
   "metadata": {},
   "outputs": [],
   "source": [
    "# All operations available to NDArray are applicable to the fits data array.\n",
    "scidata[2:10, 3:7].mean()"
   ]
  },
  {
   "cell_type": "markdown",
   "metadata": {},
   "source": [
    "`astropy.io.fits` provides convenience functions to operate on FITS files. These are good for interactive and quick lookup use. It is recommended to use the object-oriented interface for programming (creating a FITS object that you operate on)."
   ]
  },
  {
   "cell_type": "code",
   "execution_count": null,
   "metadata": {},
   "outputs": [],
   "source": [
    "# Get the data from an HDU \n",
    "data = fits.getdata('pix.fits.gz')\n",
    "print(\"min, max: \", data.min(), data.max())"
   ]
  },
  {
   "cell_type": "code",
   "execution_count": null,
   "metadata": {},
   "outputs": [],
   "source": [
    "# Get a keyword value\n",
    "wcsaxes = fits.getval('j94f05bgq_flt.fits.gz', keyword=\"WCSAXES\", ext=1)\n",
    "print(\"wcsaxes:\", wcsaxes)"
   ]
  },
  {
   "cell_type": "code",
   "execution_count": null,
   "metadata": {},
   "outputs": [],
   "source": [
    "# Set a keyword value\n",
    "fits.setval(\"j94f05bgq_flt.fits.gz\", keyword=\"observer\", value=\"Edwin Hubble\")\n",
    "\n",
    "print(\"OBSERVER: \", fits.getval(\"j94f05bgq_flt.fits.gz\", keyword=\"OBSERVER\"))"
   ]
  },
  {
   "cell_type": "code",
   "execution_count": null,
   "metadata": {},
   "outputs": [],
   "source": [
    "# Remove a keyword from a header\n",
    "fits.delval(\"j94f05bgq_flt.fits.gz\", keyword=\"OBSERVER\")"
   ]
  },
  {
   "cell_type": "markdown",
   "metadata": {},
   "source": [
    "### Visualizing with `matplotlib`"
   ]
  },
  {
   "cell_type": "code",
   "execution_count": null,
   "metadata": {},
   "outputs": [],
   "source": [
    "from matplotlib import pyplot as plt\n",
    "from matplotlib.colors import LogNorm\n",
    "\n",
    "%matplotlib inline"
   ]
  },
  {
   "cell_type": "code",
   "execution_count": null,
   "metadata": {},
   "outputs": [],
   "source": [
    "plt.imshow(scidata, vmin=50, vmax=200)\n",
    "plt.colorbar()"
   ]
  },
  {
   "cell_type": "markdown",
   "metadata": {},
   "source": [
    "For astronomical images, you often want the image scaling to be logarithmic. You can do this a number of ways, but the recommended was is to define the `norm` argument to be `matplotlib.colors.LogNorm()`."
   ]
  },
  {
   "cell_type": "code",
   "execution_count": null,
   "metadata": {},
   "outputs": [],
   "source": [
    "plt.imshow(scidata, norm=LogNorm(vmin=50, vmax=200))\n",
    "plt.colorbar()"
   ]
  },
  {
   "cell_type": "markdown",
   "metadata": {},
   "source": [
    "`matplotlib` has a number of built-in color maps that can be used to represent data. See all the options [on the `matplotlib` website](https://matplotlib.org/stable/gallery/color/colormap_reference.html). "
   ]
  },
  {
   "cell_type": "code",
   "execution_count": null,
   "metadata": {},
   "outputs": [],
   "source": [
    "plt.imshow(scidata, norm=LogNorm(vmin=50, vmax=200), cmap='gray')\n",
    "plt.colorbar()"
   ]
  },
  {
   "cell_type": "markdown",
   "metadata": {},
   "source": [
    "## Working with FITS tables"
   ]
  },
  {
   "cell_type": "markdown",
   "metadata": {},
   "source": [
    "**Note**: The recommended method to read and write a single FITS table is using the [Unified I/O read/write interface](http://docs.astropy.org/en/stable/io/unified.html#table-io-fits):\n",
    "\n",
    "    from astropy.table import Table\n",
    "    t = Table.read('data.fits')\n",
    "\n",
    "However, here we show an example of using [astropy.io.fits](http://docs.astropy.org/en/stable/io/fits/index.html#) as there exists a lot of legacy code which uses it."
   ]
  },
  {
   "cell_type": "code",
   "execution_count": null,
   "metadata": {},
   "outputs": [],
   "source": [
    "from astropy.utils.data import download_file"
   ]
  },
  {
   "cell_type": "code",
   "execution_count": null,
   "metadata": {},
   "outputs": [],
   "source": [
    "table_filename = download_file( 'http://data.astropy.org/tutorials/FITS-tables/chandra_events.fits', cache=True )"
   ]
  },
  {
   "cell_type": "code",
   "execution_count": null,
   "metadata": {},
   "outputs": [],
   "source": [
    "hdu_list = fits.open(table_filename)\n",
    "hdu_list.info()"
   ]
  },
  {
   "cell_type": "code",
   "execution_count": null,
   "metadata": {},
   "outputs": [],
   "source": [
    "table_data = hdu_list[1].data\n",
    "print(\"Column names: \\n\", table_data.names)\n",
    "\n",
    "print(\"\\nRow 1: \\n\", table_data[1])\n",
    "\n",
    "print('\\nColumn \"time\": \\n', table_data.field(\"time\"))\n",
    "\n",
    "print(\"\\nNumber of rows: \\n\", len(table_data))"
   ]
  },
  {
   "cell_type": "markdown",
   "metadata": {},
   "source": [
    "### Visualizing with `matplotlib`\n",
    "#### 1D Histogram"
   ]
  },
  {
   "cell_type": "code",
   "execution_count": null,
   "metadata": {
    "scrolled": false
   },
   "outputs": [],
   "source": [
    "plt.hist(table_data['energy'], 1000, log=True)\n",
    "plt.semilogy()\n",
    "plt.xlabel(\"eV\")\n",
    "plt.ylabel(\"counts per bin\")\n",
    "plt.show()"
   ]
  },
  {
   "cell_type": "markdown",
   "metadata": {},
   "source": [
    "#### 2D Histogram"
   ]
  },
  {
   "cell_type": "code",
   "execution_count": null,
   "metadata": {},
   "outputs": [],
   "source": [
    "# you can try bins=1000 for original tutorial version, but this might overload jupyter depending on your setup\n",
    "plt.hist2d(table_data['x'], table_data['y'], bins=100, norm=LogNorm())\n",
    "plt.colorbar()"
   ]
  },
  {
   "cell_type": "markdown",
   "metadata": {},
   "source": [
    "### Working with large files"
   ]
  },
  {
   "cell_type": "markdown",
   "metadata": {},
   "source": [
    "The *open()* function supports a *memmap=True* argument that allows the array data of each HDU to be accessed with mmap, rather than being read into memory all at once. This is particularly useful for working with very large arrays that cannot fit entirely into physical memory."
   ]
  },
  {
   "cell_type": "markdown",
   "metadata": {},
   "source": [
    "<div class=\"alert alert-block alert-info\">\n",
    "<h3>Exercise:</h3>\n",
    "<br>\n",
    "Construct programmatically a FITS file with 1 image extension \n",
    "and save it to disk. Use a numpy array with random numbers as \n",
    "data.\n",
    "\n",
    "Hints: \n",
    "- Use `fits.HDUList()` to create a FITS file.\n",
    "- Use `fits.PrimaryHDU()` for the primary HDU and `fits.ImageHDU()` for the image HDU. \n",
    "\n",
    "To look at the documentation of a python object, type one of the following into a python or IPython terminal:\n",
    "\n",
    "    >>> help(fits.ImageHDU)\n",
    "    >>> fits.ImageHDU?\n",
    "\n",
    "</div>"
   ]
  },
  {
   "cell_type": "markdown",
   "metadata": {},
   "source": [
    "---\n",
    "# Working with ASCII files"
   ]
  },
  {
   "cell_type": "markdown",
   "metadata": {},
   "source": [
    "What if your data is in a text file? We've included `throughput.txt` as an example."
   ]
  },
  {
   "cell_type": "code",
   "execution_count": null,
   "metadata": {
    "tags": []
   },
   "outputs": [],
   "source": [
    "! head throughput.txt"
   ]
  },
  {
   "cell_type": "markdown",
   "metadata": {},
   "source": [
    "Python has a built-in method for opening text files like ASCII files, but it's not too friendly. Let's see how it works:"
   ]
  },
  {
   "cell_type": "code",
   "execution_count": null,
   "metadata": {},
   "outputs": [],
   "source": [
    "with open('throughput.txt') as f:\n",
    "    throughput_data = f.read()\n",
    "throughput_data"
   ]
  },
  {
   "cell_type": "markdown",
   "metadata": {},
   "source": [
    "Luckily, Astropy includes a package to handle ASCII files that immediately separates data into rows and columns, and loads it into an easy-to-use table:"
   ]
  },
  {
   "cell_type": "code",
   "execution_count": null,
   "metadata": {},
   "outputs": [],
   "source": [
    "from astropy.io import ascii"
   ]
  },
  {
   "cell_type": "markdown",
   "metadata": {},
   "source": [
    "Since our file has a couple lines of comments at the top, we need to tell the reader to start reading the header at line 2 and the data at line 3."
   ]
  },
  {
   "cell_type": "code",
   "execution_count": null,
   "metadata": {},
   "outputs": [],
   "source": [
    "throughput_data = ascii.read('throughput.txt', data_start=3, header_start=2)\n",
    "throughput_data"
   ]
  },
  {
   "cell_type": "markdown",
   "metadata": {},
   "source": [
    "We can also redefine the column names, if we want:"
   ]
  },
  {
   "cell_type": "code",
   "execution_count": null,
   "metadata": {},
   "outputs": [],
   "source": [
    "throughput_data = ascii.read('throughput.txt', data_start=3, header_start=2, \n",
    "                             names=['lambda', 'throughput'])\n",
    "throughput_data"
   ]
  },
  {
   "cell_type": "code",
   "execution_count": null,
   "metadata": {},
   "outputs": [],
   "source": [
    "print(\"Column names: \\n\", throughput_data.colnames)\n",
    "print(\"\\nRow 1: \\n\", throughput_data[1])\n",
    "print('\\nColumn \"lambda\": \\n', throughput_data.field(\"lambda\"))\n",
    "print(\"\\nNumber of rows: \\n\", len(throughput_data))"
   ]
  },
  {
   "cell_type": "markdown",
   "metadata": {},
   "source": [
    "Astropy's ASCII module can read files with a variety of formats and extensions, including comma-separated (CSV), tab-delimited, fixed-width, HTML, reStructuredText, and more. See the [Astropy docs](http://docs.astropy.org/en/stable/io/ascii/#supported-formats) for a complete list."
   ]
  },
  {
   "cell_type": "markdown",
   "metadata": {},
   "source": [
    "Perhaps the coolest trick is that you can read and write $\\LaTeX$ tables with the ascii module! We have a text file in this directory containing a long LaTeX table: "
   ]
  },
  {
   "cell_type": "code",
   "execution_count": null,
   "metadata": {},
   "outputs": [],
   "source": [
    "!head example.tex"
   ]
  },
  {
   "cell_type": "markdown",
   "metadata": {},
   "source": [
    "We can read in the whole table like so: "
   ]
  },
  {
   "cell_type": "code",
   "execution_count": null,
   "metadata": {},
   "outputs": [],
   "source": [
    "ascii.read('example.tex')"
   ]
  },
  {
   "cell_type": "markdown",
   "metadata": {},
   "source": [
    "### Visualizing with `matplotlib`"
   ]
  },
  {
   "cell_type": "code",
   "execution_count": null,
   "metadata": {},
   "outputs": [],
   "source": [
    "plt.plot(throughput_data['lambda'], throughput_data['throughput'])\n",
    "plt.xlabel('Wavelength ($\\mu$m)')\n",
    "plt.ylabel('Throughput')"
   ]
  },
  {
   "cell_type": "code",
   "execution_count": null,
   "metadata": {},
   "outputs": [],
   "source": []
  }
 ],
 "metadata": {
  "anaconda-cloud": {},
  "kernelspec": {
   "name": "python394jvsc74a57bd092a8295489555d3a1aedc5d600c27b639ac1b7142ea0160462c6bd277d5bb6e2",
   "display_name": "Python 3.9.4 64-bit ('bootcamp': conda)"
  },
  "language_info": {
   "codemirror_mode": {
    "name": "ipython",
    "version": 3
   },
   "file_extension": ".py",
   "mimetype": "text/x-python",
   "name": "python",
   "nbconvert_exporter": "python",
   "pygments_lexer": "ipython3",
   "version": "3.9.4"
  }
 },
 "nbformat": 4,
 "nbformat_minor": 2
}